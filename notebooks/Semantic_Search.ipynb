{
  "nbformat": 4,
  "nbformat_minor": 0,
  "metadata": {
    "colab": {
      "name": "Semantic Search.ipynb ",
      "provenance": [],
      "toc_visible": true
    },
    "kernelspec": {
      "name": "python3",
      "display_name": "Python 3"
    },
    "accelerator": "GPU",
    "widgets": {
      "application/vnd.jupyter.widget-state+json": {
        "f12bf04b33f842fd8eb2752c29218aa2": {
          "model_module": "@jupyter-widgets/controls",
          "model_name": "HBoxModel",
          "state": {
            "_view_name": "HBoxView",
            "_dom_classes": [],
            "_model_name": "HBoxModel",
            "_view_module": "@jupyter-widgets/controls",
            "_model_module_version": "1.5.0",
            "_view_count": null,
            "_view_module_version": "1.5.0",
            "box_style": "",
            "layout": "IPY_MODEL_32eb7717b09d4e5ca8538b1f4103cfdc",
            "_model_module": "@jupyter-widgets/controls",
            "children": [
              "IPY_MODEL_24b9970751d0406caed21675d81d0435",
              "IPY_MODEL_06efa733613b411198b073f8b4a1ab99"
            ]
          }
        },
        "32eb7717b09d4e5ca8538b1f4103cfdc": {
          "model_module": "@jupyter-widgets/base",
          "model_name": "LayoutModel",
          "state": {
            "_view_name": "LayoutView",
            "grid_template_rows": null,
            "right": null,
            "justify_content": null,
            "_view_module": "@jupyter-widgets/base",
            "overflow": null,
            "_model_module_version": "1.2.0",
            "_view_count": null,
            "flex_flow": null,
            "width": null,
            "min_width": null,
            "border": null,
            "align_items": null,
            "bottom": null,
            "_model_module": "@jupyter-widgets/base",
            "top": null,
            "grid_column": null,
            "overflow_y": null,
            "overflow_x": null,
            "grid_auto_flow": null,
            "grid_area": null,
            "grid_template_columns": null,
            "flex": null,
            "_model_name": "LayoutModel",
            "justify_items": null,
            "grid_row": null,
            "max_height": null,
            "align_content": null,
            "visibility": null,
            "align_self": null,
            "height": null,
            "min_height": null,
            "padding": null,
            "grid_auto_rows": null,
            "grid_gap": null,
            "max_width": null,
            "order": null,
            "_view_module_version": "1.2.0",
            "grid_template_areas": null,
            "object_position": null,
            "object_fit": null,
            "grid_auto_columns": null,
            "margin": null,
            "display": null,
            "left": null
          }
        },
        "24b9970751d0406caed21675d81d0435": {
          "model_module": "@jupyter-widgets/controls",
          "model_name": "FloatProgressModel",
          "state": {
            "_view_name": "ProgressView",
            "style": "IPY_MODEL_9747038d71394149ab116f0c6e45929f",
            "_dom_classes": [],
            "description": "Downloading: 100%",
            "_model_name": "FloatProgressModel",
            "bar_style": "success",
            "max": 612,
            "_view_module": "@jupyter-widgets/controls",
            "_model_module_version": "1.5.0",
            "value": 612,
            "_view_count": null,
            "_view_module_version": "1.5.0",
            "orientation": "horizontal",
            "min": 0,
            "description_tooltip": null,
            "_model_module": "@jupyter-widgets/controls",
            "layout": "IPY_MODEL_7247a7cb022f4c3f845b91e861fa452a"
          }
        },
        "06efa733613b411198b073f8b4a1ab99": {
          "model_module": "@jupyter-widgets/controls",
          "model_name": "HTMLModel",
          "state": {
            "_view_name": "HTMLView",
            "style": "IPY_MODEL_08ca9ff48f95477280ae89f8af449ac9",
            "_dom_classes": [],
            "description": "",
            "_model_name": "HTMLModel",
            "placeholder": "​",
            "_view_module": "@jupyter-widgets/controls",
            "_model_module_version": "1.5.0",
            "value": " 612/612 [00:00&lt;00:00, 1.15kB/s]",
            "_view_count": null,
            "_view_module_version": "1.5.0",
            "description_tooltip": null,
            "_model_module": "@jupyter-widgets/controls",
            "layout": "IPY_MODEL_fa0925f561ae4d1ea4f0afafd5a99f83"
          }
        },
        "9747038d71394149ab116f0c6e45929f": {
          "model_module": "@jupyter-widgets/controls",
          "model_name": "ProgressStyleModel",
          "state": {
            "_view_name": "StyleView",
            "_model_name": "ProgressStyleModel",
            "description_width": "initial",
            "_view_module": "@jupyter-widgets/base",
            "_model_module_version": "1.5.0",
            "_view_count": null,
            "_view_module_version": "1.2.0",
            "bar_color": null,
            "_model_module": "@jupyter-widgets/controls"
          }
        },
        "7247a7cb022f4c3f845b91e861fa452a": {
          "model_module": "@jupyter-widgets/base",
          "model_name": "LayoutModel",
          "state": {
            "_view_name": "LayoutView",
            "grid_template_rows": null,
            "right": null,
            "justify_content": null,
            "_view_module": "@jupyter-widgets/base",
            "overflow": null,
            "_model_module_version": "1.2.0",
            "_view_count": null,
            "flex_flow": null,
            "width": null,
            "min_width": null,
            "border": null,
            "align_items": null,
            "bottom": null,
            "_model_module": "@jupyter-widgets/base",
            "top": null,
            "grid_column": null,
            "overflow_y": null,
            "overflow_x": null,
            "grid_auto_flow": null,
            "grid_area": null,
            "grid_template_columns": null,
            "flex": null,
            "_model_name": "LayoutModel",
            "justify_items": null,
            "grid_row": null,
            "max_height": null,
            "align_content": null,
            "visibility": null,
            "align_self": null,
            "height": null,
            "min_height": null,
            "padding": null,
            "grid_auto_rows": null,
            "grid_gap": null,
            "max_width": null,
            "order": null,
            "_view_module_version": "1.2.0",
            "grid_template_areas": null,
            "object_position": null,
            "object_fit": null,
            "grid_auto_columns": null,
            "margin": null,
            "display": null,
            "left": null
          }
        },
        "08ca9ff48f95477280ae89f8af449ac9": {
          "model_module": "@jupyter-widgets/controls",
          "model_name": "DescriptionStyleModel",
          "state": {
            "_view_name": "StyleView",
            "_model_name": "DescriptionStyleModel",
            "description_width": "",
            "_view_module": "@jupyter-widgets/base",
            "_model_module_version": "1.5.0",
            "_view_count": null,
            "_view_module_version": "1.2.0",
            "_model_module": "@jupyter-widgets/controls"
          }
        },
        "fa0925f561ae4d1ea4f0afafd5a99f83": {
          "model_module": "@jupyter-widgets/base",
          "model_name": "LayoutModel",
          "state": {
            "_view_name": "LayoutView",
            "grid_template_rows": null,
            "right": null,
            "justify_content": null,
            "_view_module": "@jupyter-widgets/base",
            "overflow": null,
            "_model_module_version": "1.2.0",
            "_view_count": null,
            "flex_flow": null,
            "width": null,
            "min_width": null,
            "border": null,
            "align_items": null,
            "bottom": null,
            "_model_module": "@jupyter-widgets/base",
            "top": null,
            "grid_column": null,
            "overflow_y": null,
            "overflow_x": null,
            "grid_auto_flow": null,
            "grid_area": null,
            "grid_template_columns": null,
            "flex": null,
            "_model_name": "LayoutModel",
            "justify_items": null,
            "grid_row": null,
            "max_height": null,
            "align_content": null,
            "visibility": null,
            "align_self": null,
            "height": null,
            "min_height": null,
            "padding": null,
            "grid_auto_rows": null,
            "grid_gap": null,
            "max_width": null,
            "order": null,
            "_view_module_version": "1.2.0",
            "grid_template_areas": null,
            "object_position": null,
            "object_fit": null,
            "grid_auto_columns": null,
            "margin": null,
            "display": null,
            "left": null
          }
        },
        "dcd5a5c73265461998a2bf4c26b9885f": {
          "model_module": "@jupyter-widgets/controls",
          "model_name": "HBoxModel",
          "state": {
            "_view_name": "HBoxView",
            "_dom_classes": [],
            "_model_name": "HBoxModel",
            "_view_module": "@jupyter-widgets/controls",
            "_model_module_version": "1.5.0",
            "_view_count": null,
            "_view_module_version": "1.5.0",
            "box_style": "",
            "layout": "IPY_MODEL_bf902784bad44374a73377fb413bd78d",
            "_model_module": "@jupyter-widgets/controls",
            "children": [
              "IPY_MODEL_d9713a01592d4bd19077b801cc6491a6",
              "IPY_MODEL_a002868abc3c477e8196f18217059c9d"
            ]
          }
        },
        "bf902784bad44374a73377fb413bd78d": {
          "model_module": "@jupyter-widgets/base",
          "model_name": "LayoutModel",
          "state": {
            "_view_name": "LayoutView",
            "grid_template_rows": null,
            "right": null,
            "justify_content": null,
            "_view_module": "@jupyter-widgets/base",
            "overflow": null,
            "_model_module_version": "1.2.0",
            "_view_count": null,
            "flex_flow": null,
            "width": null,
            "min_width": null,
            "border": null,
            "align_items": null,
            "bottom": null,
            "_model_module": "@jupyter-widgets/base",
            "top": null,
            "grid_column": null,
            "overflow_y": null,
            "overflow_x": null,
            "grid_auto_flow": null,
            "grid_area": null,
            "grid_template_columns": null,
            "flex": null,
            "_model_name": "LayoutModel",
            "justify_items": null,
            "grid_row": null,
            "max_height": null,
            "align_content": null,
            "visibility": null,
            "align_self": null,
            "height": null,
            "min_height": null,
            "padding": null,
            "grid_auto_rows": null,
            "grid_gap": null,
            "max_width": null,
            "order": null,
            "_view_module_version": "1.2.0",
            "grid_template_areas": null,
            "object_position": null,
            "object_fit": null,
            "grid_auto_columns": null,
            "margin": null,
            "display": null,
            "left": null
          }
        },
        "d9713a01592d4bd19077b801cc6491a6": {
          "model_module": "@jupyter-widgets/controls",
          "model_name": "FloatProgressModel",
          "state": {
            "_view_name": "ProgressView",
            "style": "IPY_MODEL_079ce04f502943d8af6ce87ccafb0f9e",
            "_dom_classes": [],
            "description": "Downloading: 100%",
            "_model_name": "FloatProgressModel",
            "bar_style": "success",
            "max": 267871721,
            "_view_module": "@jupyter-widgets/controls",
            "_model_module_version": "1.5.0",
            "value": 267871721,
            "_view_count": null,
            "_view_module_version": "1.5.0",
            "orientation": "horizontal",
            "min": 0,
            "description_tooltip": null,
            "_model_module": "@jupyter-widgets/controls",
            "layout": "IPY_MODEL_bc4f14ce5aa0422381fd75bde6008ee7"
          }
        },
        "a002868abc3c477e8196f18217059c9d": {
          "model_module": "@jupyter-widgets/controls",
          "model_name": "HTMLModel",
          "state": {
            "_view_name": "HTMLView",
            "style": "IPY_MODEL_be86d5a8e91c4911ab738b3728d31b19",
            "_dom_classes": [],
            "description": "",
            "_model_name": "HTMLModel",
            "placeholder": "​",
            "_view_module": "@jupyter-widgets/controls",
            "_model_module_version": "1.5.0",
            "value": " 268M/268M [00:07&lt;00:00, 35.2MB/s]",
            "_view_count": null,
            "_view_module_version": "1.5.0",
            "description_tooltip": null,
            "_model_module": "@jupyter-widgets/controls",
            "layout": "IPY_MODEL_4ea4b9d9676e44f594a17bb2c102be02"
          }
        },
        "079ce04f502943d8af6ce87ccafb0f9e": {
          "model_module": "@jupyter-widgets/controls",
          "model_name": "ProgressStyleModel",
          "state": {
            "_view_name": "StyleView",
            "_model_name": "ProgressStyleModel",
            "description_width": "initial",
            "_view_module": "@jupyter-widgets/base",
            "_model_module_version": "1.5.0",
            "_view_count": null,
            "_view_module_version": "1.2.0",
            "bar_color": null,
            "_model_module": "@jupyter-widgets/controls"
          }
        },
        "bc4f14ce5aa0422381fd75bde6008ee7": {
          "model_module": "@jupyter-widgets/base",
          "model_name": "LayoutModel",
          "state": {
            "_view_name": "LayoutView",
            "grid_template_rows": null,
            "right": null,
            "justify_content": null,
            "_view_module": "@jupyter-widgets/base",
            "overflow": null,
            "_model_module_version": "1.2.0",
            "_view_count": null,
            "flex_flow": null,
            "width": null,
            "min_width": null,
            "border": null,
            "align_items": null,
            "bottom": null,
            "_model_module": "@jupyter-widgets/base",
            "top": null,
            "grid_column": null,
            "overflow_y": null,
            "overflow_x": null,
            "grid_auto_flow": null,
            "grid_area": null,
            "grid_template_columns": null,
            "flex": null,
            "_model_name": "LayoutModel",
            "justify_items": null,
            "grid_row": null,
            "max_height": null,
            "align_content": null,
            "visibility": null,
            "align_self": null,
            "height": null,
            "min_height": null,
            "padding": null,
            "grid_auto_rows": null,
            "grid_gap": null,
            "max_width": null,
            "order": null,
            "_view_module_version": "1.2.0",
            "grid_template_areas": null,
            "object_position": null,
            "object_fit": null,
            "grid_auto_columns": null,
            "margin": null,
            "display": null,
            "left": null
          }
        },
        "be86d5a8e91c4911ab738b3728d31b19": {
          "model_module": "@jupyter-widgets/controls",
          "model_name": "DescriptionStyleModel",
          "state": {
            "_view_name": "StyleView",
            "_model_name": "DescriptionStyleModel",
            "description_width": "",
            "_view_module": "@jupyter-widgets/base",
            "_model_module_version": "1.5.0",
            "_view_count": null,
            "_view_module_version": "1.2.0",
            "_model_module": "@jupyter-widgets/controls"
          }
        },
        "4ea4b9d9676e44f594a17bb2c102be02": {
          "model_module": "@jupyter-widgets/base",
          "model_name": "LayoutModel",
          "state": {
            "_view_name": "LayoutView",
            "grid_template_rows": null,
            "right": null,
            "justify_content": null,
            "_view_module": "@jupyter-widgets/base",
            "overflow": null,
            "_model_module_version": "1.2.0",
            "_view_count": null,
            "flex_flow": null,
            "width": null,
            "min_width": null,
            "border": null,
            "align_items": null,
            "bottom": null,
            "_model_module": "@jupyter-widgets/base",
            "top": null,
            "grid_column": null,
            "overflow_y": null,
            "overflow_x": null,
            "grid_auto_flow": null,
            "grid_area": null,
            "grid_template_columns": null,
            "flex": null,
            "_model_name": "LayoutModel",
            "justify_items": null,
            "grid_row": null,
            "max_height": null,
            "align_content": null,
            "visibility": null,
            "align_self": null,
            "height": null,
            "min_height": null,
            "padding": null,
            "grid_auto_rows": null,
            "grid_gap": null,
            "max_width": null,
            "order": null,
            "_view_module_version": "1.2.0",
            "grid_template_areas": null,
            "object_position": null,
            "object_fit": null,
            "grid_auto_columns": null,
            "margin": null,
            "display": null,
            "left": null
          }
        },
        "d3870186ec874785bff9d7db129c8590": {
          "model_module": "@jupyter-widgets/controls",
          "model_name": "HBoxModel",
          "state": {
            "_view_name": "HBoxView",
            "_dom_classes": [],
            "_model_name": "HBoxModel",
            "_view_module": "@jupyter-widgets/controls",
            "_model_module_version": "1.5.0",
            "_view_count": null,
            "_view_module_version": "1.5.0",
            "box_style": "",
            "layout": "IPY_MODEL_32b72a7a072443408c64d845191e0f9c",
            "_model_module": "@jupyter-widgets/controls",
            "children": [
              "IPY_MODEL_e4cad863afa04025aaaa3211d02fd8e4",
              "IPY_MODEL_aad93f927b894cd5aa2f714756ae8e2c"
            ]
          }
        },
        "32b72a7a072443408c64d845191e0f9c": {
          "model_module": "@jupyter-widgets/base",
          "model_name": "LayoutModel",
          "state": {
            "_view_name": "LayoutView",
            "grid_template_rows": null,
            "right": null,
            "justify_content": null,
            "_view_module": "@jupyter-widgets/base",
            "overflow": null,
            "_model_module_version": "1.2.0",
            "_view_count": null,
            "flex_flow": null,
            "width": null,
            "min_width": null,
            "border": null,
            "align_items": null,
            "bottom": null,
            "_model_module": "@jupyter-widgets/base",
            "top": null,
            "grid_column": null,
            "overflow_y": null,
            "overflow_x": null,
            "grid_auto_flow": null,
            "grid_area": null,
            "grid_template_columns": null,
            "flex": null,
            "_model_name": "LayoutModel",
            "justify_items": null,
            "grid_row": null,
            "max_height": null,
            "align_content": null,
            "visibility": null,
            "align_self": null,
            "height": null,
            "min_height": null,
            "padding": null,
            "grid_auto_rows": null,
            "grid_gap": null,
            "max_width": null,
            "order": null,
            "_view_module_version": "1.2.0",
            "grid_template_areas": null,
            "object_position": null,
            "object_fit": null,
            "grid_auto_columns": null,
            "margin": null,
            "display": null,
            "left": null
          }
        },
        "e4cad863afa04025aaaa3211d02fd8e4": {
          "model_module": "@jupyter-widgets/controls",
          "model_name": "FloatProgressModel",
          "state": {
            "_view_name": "ProgressView",
            "style": "IPY_MODEL_e537e19b48d345c9919c5f6b0b7c1b6a",
            "_dom_classes": [],
            "description": "Downloading: 100%",
            "_model_name": "FloatProgressModel",
            "bar_style": "success",
            "max": 231508,
            "_view_module": "@jupyter-widgets/controls",
            "_model_module_version": "1.5.0",
            "value": 231508,
            "_view_count": null,
            "_view_module_version": "1.5.0",
            "orientation": "horizontal",
            "min": 0,
            "description_tooltip": null,
            "_model_module": "@jupyter-widgets/controls",
            "layout": "IPY_MODEL_1edaa5ed114d4e20b8e3f3f455ddc480"
          }
        },
        "aad93f927b894cd5aa2f714756ae8e2c": {
          "model_module": "@jupyter-widgets/controls",
          "model_name": "HTMLModel",
          "state": {
            "_view_name": "HTMLView",
            "style": "IPY_MODEL_30ee411062a946ebace543179441a36f",
            "_dom_classes": [],
            "description": "",
            "_model_name": "HTMLModel",
            "placeholder": "​",
            "_view_module": "@jupyter-widgets/controls",
            "_model_module_version": "1.5.0",
            "value": " 232k/232k [00:01&lt;00:00, 144kB/s]",
            "_view_count": null,
            "_view_module_version": "1.5.0",
            "description_tooltip": null,
            "_model_module": "@jupyter-widgets/controls",
            "layout": "IPY_MODEL_f3b2116f8b674d8eb0ad55049a672545"
          }
        },
        "e537e19b48d345c9919c5f6b0b7c1b6a": {
          "model_module": "@jupyter-widgets/controls",
          "model_name": "ProgressStyleModel",
          "state": {
            "_view_name": "StyleView",
            "_model_name": "ProgressStyleModel",
            "description_width": "initial",
            "_view_module": "@jupyter-widgets/base",
            "_model_module_version": "1.5.0",
            "_view_count": null,
            "_view_module_version": "1.2.0",
            "bar_color": null,
            "_model_module": "@jupyter-widgets/controls"
          }
        },
        "1edaa5ed114d4e20b8e3f3f455ddc480": {
          "model_module": "@jupyter-widgets/base",
          "model_name": "LayoutModel",
          "state": {
            "_view_name": "LayoutView",
            "grid_template_rows": null,
            "right": null,
            "justify_content": null,
            "_view_module": "@jupyter-widgets/base",
            "overflow": null,
            "_model_module_version": "1.2.0",
            "_view_count": null,
            "flex_flow": null,
            "width": null,
            "min_width": null,
            "border": null,
            "align_items": null,
            "bottom": null,
            "_model_module": "@jupyter-widgets/base",
            "top": null,
            "grid_column": null,
            "overflow_y": null,
            "overflow_x": null,
            "grid_auto_flow": null,
            "grid_area": null,
            "grid_template_columns": null,
            "flex": null,
            "_model_name": "LayoutModel",
            "justify_items": null,
            "grid_row": null,
            "max_height": null,
            "align_content": null,
            "visibility": null,
            "align_self": null,
            "height": null,
            "min_height": null,
            "padding": null,
            "grid_auto_rows": null,
            "grid_gap": null,
            "max_width": null,
            "order": null,
            "_view_module_version": "1.2.0",
            "grid_template_areas": null,
            "object_position": null,
            "object_fit": null,
            "grid_auto_columns": null,
            "margin": null,
            "display": null,
            "left": null
          }
        },
        "30ee411062a946ebace543179441a36f": {
          "model_module": "@jupyter-widgets/controls",
          "model_name": "DescriptionStyleModel",
          "state": {
            "_view_name": "StyleView",
            "_model_name": "DescriptionStyleModel",
            "description_width": "",
            "_view_module": "@jupyter-widgets/base",
            "_model_module_version": "1.5.0",
            "_view_count": null,
            "_view_module_version": "1.2.0",
            "_model_module": "@jupyter-widgets/controls"
          }
        },
        "f3b2116f8b674d8eb0ad55049a672545": {
          "model_module": "@jupyter-widgets/base",
          "model_name": "LayoutModel",
          "state": {
            "_view_name": "LayoutView",
            "grid_template_rows": null,
            "right": null,
            "justify_content": null,
            "_view_module": "@jupyter-widgets/base",
            "overflow": null,
            "_model_module_version": "1.2.0",
            "_view_count": null,
            "flex_flow": null,
            "width": null,
            "min_width": null,
            "border": null,
            "align_items": null,
            "bottom": null,
            "_model_module": "@jupyter-widgets/base",
            "top": null,
            "grid_column": null,
            "overflow_y": null,
            "overflow_x": null,
            "grid_auto_flow": null,
            "grid_area": null,
            "grid_template_columns": null,
            "flex": null,
            "_model_name": "LayoutModel",
            "justify_items": null,
            "grid_row": null,
            "max_height": null,
            "align_content": null,
            "visibility": null,
            "align_self": null,
            "height": null,
            "min_height": null,
            "padding": null,
            "grid_auto_rows": null,
            "grid_gap": null,
            "max_width": null,
            "order": null,
            "_view_module_version": "1.2.0",
            "grid_template_areas": null,
            "object_position": null,
            "object_fit": null,
            "grid_auto_columns": null,
            "margin": null,
            "display": null,
            "left": null
          }
        },
        "b248ed1c651c4854aac2912eccb6a6c3": {
          "model_module": "@jupyter-widgets/controls",
          "model_name": "HBoxModel",
          "state": {
            "_view_name": "HBoxView",
            "_dom_classes": [],
            "_model_name": "HBoxModel",
            "_view_module": "@jupyter-widgets/controls",
            "_model_module_version": "1.5.0",
            "_view_count": null,
            "_view_module_version": "1.5.0",
            "box_style": "",
            "layout": "IPY_MODEL_2aacaa2865bc4f62a7a3a2ef0f8fdf0c",
            "_model_module": "@jupyter-widgets/controls",
            "children": [
              "IPY_MODEL_37bae89250df4181a7a568889de8202d",
              "IPY_MODEL_c9d9451cccf643a292d0f5ff46f1b53f"
            ]
          }
        },
        "2aacaa2865bc4f62a7a3a2ef0f8fdf0c": {
          "model_module": "@jupyter-widgets/base",
          "model_name": "LayoutModel",
          "state": {
            "_view_name": "LayoutView",
            "grid_template_rows": null,
            "right": null,
            "justify_content": null,
            "_view_module": "@jupyter-widgets/base",
            "overflow": null,
            "_model_module_version": "1.2.0",
            "_view_count": null,
            "flex_flow": null,
            "width": null,
            "min_width": null,
            "border": null,
            "align_items": null,
            "bottom": null,
            "_model_module": "@jupyter-widgets/base",
            "top": null,
            "grid_column": null,
            "overflow_y": null,
            "overflow_x": null,
            "grid_auto_flow": null,
            "grid_area": null,
            "grid_template_columns": null,
            "flex": null,
            "_model_name": "LayoutModel",
            "justify_items": null,
            "grid_row": null,
            "max_height": null,
            "align_content": null,
            "visibility": null,
            "align_self": null,
            "height": null,
            "min_height": null,
            "padding": null,
            "grid_auto_rows": null,
            "grid_gap": null,
            "max_width": null,
            "order": null,
            "_view_module_version": "1.2.0",
            "grid_template_areas": null,
            "object_position": null,
            "object_fit": null,
            "grid_auto_columns": null,
            "margin": null,
            "display": null,
            "left": null
          }
        },
        "37bae89250df4181a7a568889de8202d": {
          "model_module": "@jupyter-widgets/controls",
          "model_name": "FloatProgressModel",
          "state": {
            "_view_name": "ProgressView",
            "style": "IPY_MODEL_13864a27ac784b7f8d4e41c81895e54f",
            "_dom_classes": [],
            "description": "Downloading: 100%",
            "_model_name": "FloatProgressModel",
            "bar_style": "success",
            "max": 112,
            "_view_module": "@jupyter-widgets/controls",
            "_model_module_version": "1.5.0",
            "value": 112,
            "_view_count": null,
            "_view_module_version": "1.5.0",
            "orientation": "horizontal",
            "min": 0,
            "description_tooltip": null,
            "_model_module": "@jupyter-widgets/controls",
            "layout": "IPY_MODEL_c8500fb091aa43019bd3e62476b402e3"
          }
        },
        "c9d9451cccf643a292d0f5ff46f1b53f": {
          "model_module": "@jupyter-widgets/controls",
          "model_name": "HTMLModel",
          "state": {
            "_view_name": "HTMLView",
            "style": "IPY_MODEL_1788ac2d94b344059eef8081a49b6f31",
            "_dom_classes": [],
            "description": "",
            "_model_name": "HTMLModel",
            "placeholder": "​",
            "_view_module": "@jupyter-widgets/controls",
            "_model_module_version": "1.5.0",
            "value": " 112/112 [00:00&lt;00:00, 219B/s]",
            "_view_count": null,
            "_view_module_version": "1.5.0",
            "description_tooltip": null,
            "_model_module": "@jupyter-widgets/controls",
            "layout": "IPY_MODEL_b4bd1fa9eb024444853b2d9099691e11"
          }
        },
        "13864a27ac784b7f8d4e41c81895e54f": {
          "model_module": "@jupyter-widgets/controls",
          "model_name": "ProgressStyleModel",
          "state": {
            "_view_name": "StyleView",
            "_model_name": "ProgressStyleModel",
            "description_width": "initial",
            "_view_module": "@jupyter-widgets/base",
            "_model_module_version": "1.5.0",
            "_view_count": null,
            "_view_module_version": "1.2.0",
            "bar_color": null,
            "_model_module": "@jupyter-widgets/controls"
          }
        },
        "c8500fb091aa43019bd3e62476b402e3": {
          "model_module": "@jupyter-widgets/base",
          "model_name": "LayoutModel",
          "state": {
            "_view_name": "LayoutView",
            "grid_template_rows": null,
            "right": null,
            "justify_content": null,
            "_view_module": "@jupyter-widgets/base",
            "overflow": null,
            "_model_module_version": "1.2.0",
            "_view_count": null,
            "flex_flow": null,
            "width": null,
            "min_width": null,
            "border": null,
            "align_items": null,
            "bottom": null,
            "_model_module": "@jupyter-widgets/base",
            "top": null,
            "grid_column": null,
            "overflow_y": null,
            "overflow_x": null,
            "grid_auto_flow": null,
            "grid_area": null,
            "grid_template_columns": null,
            "flex": null,
            "_model_name": "LayoutModel",
            "justify_items": null,
            "grid_row": null,
            "max_height": null,
            "align_content": null,
            "visibility": null,
            "align_self": null,
            "height": null,
            "min_height": null,
            "padding": null,
            "grid_auto_rows": null,
            "grid_gap": null,
            "max_width": null,
            "order": null,
            "_view_module_version": "1.2.0",
            "grid_template_areas": null,
            "object_position": null,
            "object_fit": null,
            "grid_auto_columns": null,
            "margin": null,
            "display": null,
            "left": null
          }
        },
        "1788ac2d94b344059eef8081a49b6f31": {
          "model_module": "@jupyter-widgets/controls",
          "model_name": "DescriptionStyleModel",
          "state": {
            "_view_name": "StyleView",
            "_model_name": "DescriptionStyleModel",
            "description_width": "",
            "_view_module": "@jupyter-widgets/base",
            "_model_module_version": "1.5.0",
            "_view_count": null,
            "_view_module_version": "1.2.0",
            "_model_module": "@jupyter-widgets/controls"
          }
        },
        "b4bd1fa9eb024444853b2d9099691e11": {
          "model_module": "@jupyter-widgets/base",
          "model_name": "LayoutModel",
          "state": {
            "_view_name": "LayoutView",
            "grid_template_rows": null,
            "right": null,
            "justify_content": null,
            "_view_module": "@jupyter-widgets/base",
            "overflow": null,
            "_model_module_version": "1.2.0",
            "_view_count": null,
            "flex_flow": null,
            "width": null,
            "min_width": null,
            "border": null,
            "align_items": null,
            "bottom": null,
            "_model_module": "@jupyter-widgets/base",
            "top": null,
            "grid_column": null,
            "overflow_y": null,
            "overflow_x": null,
            "grid_auto_flow": null,
            "grid_area": null,
            "grid_template_columns": null,
            "flex": null,
            "_model_name": "LayoutModel",
            "justify_items": null,
            "grid_row": null,
            "max_height": null,
            "align_content": null,
            "visibility": null,
            "align_self": null,
            "height": null,
            "min_height": null,
            "padding": null,
            "grid_auto_rows": null,
            "grid_gap": null,
            "max_width": null,
            "order": null,
            "_view_module_version": "1.2.0",
            "grid_template_areas": null,
            "object_position": null,
            "object_fit": null,
            "grid_auto_columns": null,
            "margin": null,
            "display": null,
            "left": null
          }
        },
        "38f3c6256caf4619b3cd91bd15aa28da": {
          "model_module": "@jupyter-widgets/controls",
          "model_name": "HBoxModel",
          "state": {
            "_view_name": "HBoxView",
            "_dom_classes": [],
            "_model_name": "HBoxModel",
            "_view_module": "@jupyter-widgets/controls",
            "_model_module_version": "1.5.0",
            "_view_count": null,
            "_view_module_version": "1.5.0",
            "box_style": "",
            "layout": "IPY_MODEL_2a34f3eab1944722a635f8bee76db714",
            "_model_module": "@jupyter-widgets/controls",
            "children": [
              "IPY_MODEL_dd50ef9d33ef45a7957ebda145c9e732",
              "IPY_MODEL_c6a329938f0a4d5c83e5ff7aecc63a2c"
            ]
          }
        },
        "2a34f3eab1944722a635f8bee76db714": {
          "model_module": "@jupyter-widgets/base",
          "model_name": "LayoutModel",
          "state": {
            "_view_name": "LayoutView",
            "grid_template_rows": null,
            "right": null,
            "justify_content": null,
            "_view_module": "@jupyter-widgets/base",
            "overflow": null,
            "_model_module_version": "1.2.0",
            "_view_count": null,
            "flex_flow": null,
            "width": null,
            "min_width": null,
            "border": null,
            "align_items": null,
            "bottom": null,
            "_model_module": "@jupyter-widgets/base",
            "top": null,
            "grid_column": null,
            "overflow_y": null,
            "overflow_x": null,
            "grid_auto_flow": null,
            "grid_area": null,
            "grid_template_columns": null,
            "flex": null,
            "_model_name": "LayoutModel",
            "justify_items": null,
            "grid_row": null,
            "max_height": null,
            "align_content": null,
            "visibility": null,
            "align_self": null,
            "height": null,
            "min_height": null,
            "padding": null,
            "grid_auto_rows": null,
            "grid_gap": null,
            "max_width": null,
            "order": null,
            "_view_module_version": "1.2.0",
            "grid_template_areas": null,
            "object_position": null,
            "object_fit": null,
            "grid_auto_columns": null,
            "margin": null,
            "display": null,
            "left": null
          }
        },
        "dd50ef9d33ef45a7957ebda145c9e732": {
          "model_module": "@jupyter-widgets/controls",
          "model_name": "FloatProgressModel",
          "state": {
            "_view_name": "ProgressView",
            "style": "IPY_MODEL_f9cdecd57b1a43a69791fde5dc9c9cdf",
            "_dom_classes": [],
            "description": "Downloading: 100%",
            "_model_name": "FloatProgressModel",
            "bar_style": "success",
            "max": 541,
            "_view_module": "@jupyter-widgets/controls",
            "_model_module_version": "1.5.0",
            "value": 541,
            "_view_count": null,
            "_view_module_version": "1.5.0",
            "orientation": "horizontal",
            "min": 0,
            "description_tooltip": null,
            "_model_module": "@jupyter-widgets/controls",
            "layout": "IPY_MODEL_64df8eb9f286430dbbb669e429d7c649"
          }
        },
        "c6a329938f0a4d5c83e5ff7aecc63a2c": {
          "model_module": "@jupyter-widgets/controls",
          "model_name": "HTMLModel",
          "state": {
            "_view_name": "HTMLView",
            "style": "IPY_MODEL_a3a15cbd23e8454a9ff43d7ca5c81062",
            "_dom_classes": [],
            "description": "",
            "_model_name": "HTMLModel",
            "placeholder": "​",
            "_view_module": "@jupyter-widgets/controls",
            "_model_module_version": "1.5.0",
            "value": " 541/541 [00:00&lt;00:00, 9.51kB/s]",
            "_view_count": null,
            "_view_module_version": "1.5.0",
            "description_tooltip": null,
            "_model_module": "@jupyter-widgets/controls",
            "layout": "IPY_MODEL_4025afade8c5482d9139437e6dfb8001"
          }
        },
        "f9cdecd57b1a43a69791fde5dc9c9cdf": {
          "model_module": "@jupyter-widgets/controls",
          "model_name": "ProgressStyleModel",
          "state": {
            "_view_name": "StyleView",
            "_model_name": "ProgressStyleModel",
            "description_width": "initial",
            "_view_module": "@jupyter-widgets/base",
            "_model_module_version": "1.5.0",
            "_view_count": null,
            "_view_module_version": "1.2.0",
            "bar_color": null,
            "_model_module": "@jupyter-widgets/controls"
          }
        },
        "64df8eb9f286430dbbb669e429d7c649": {
          "model_module": "@jupyter-widgets/base",
          "model_name": "LayoutModel",
          "state": {
            "_view_name": "LayoutView",
            "grid_template_rows": null,
            "right": null,
            "justify_content": null,
            "_view_module": "@jupyter-widgets/base",
            "overflow": null,
            "_model_module_version": "1.2.0",
            "_view_count": null,
            "flex_flow": null,
            "width": null,
            "min_width": null,
            "border": null,
            "align_items": null,
            "bottom": null,
            "_model_module": "@jupyter-widgets/base",
            "top": null,
            "grid_column": null,
            "overflow_y": null,
            "overflow_x": null,
            "grid_auto_flow": null,
            "grid_area": null,
            "grid_template_columns": null,
            "flex": null,
            "_model_name": "LayoutModel",
            "justify_items": null,
            "grid_row": null,
            "max_height": null,
            "align_content": null,
            "visibility": null,
            "align_self": null,
            "height": null,
            "min_height": null,
            "padding": null,
            "grid_auto_rows": null,
            "grid_gap": null,
            "max_width": null,
            "order": null,
            "_view_module_version": "1.2.0",
            "grid_template_areas": null,
            "object_position": null,
            "object_fit": null,
            "grid_auto_columns": null,
            "margin": null,
            "display": null,
            "left": null
          }
        },
        "a3a15cbd23e8454a9ff43d7ca5c81062": {
          "model_module": "@jupyter-widgets/controls",
          "model_name": "DescriptionStyleModel",
          "state": {
            "_view_name": "StyleView",
            "_model_name": "DescriptionStyleModel",
            "description_width": "",
            "_view_module": "@jupyter-widgets/base",
            "_model_module_version": "1.5.0",
            "_view_count": null,
            "_view_module_version": "1.2.0",
            "_model_module": "@jupyter-widgets/controls"
          }
        },
        "4025afade8c5482d9139437e6dfb8001": {
          "model_module": "@jupyter-widgets/base",
          "model_name": "LayoutModel",
          "state": {
            "_view_name": "LayoutView",
            "grid_template_rows": null,
            "right": null,
            "justify_content": null,
            "_view_module": "@jupyter-widgets/base",
            "overflow": null,
            "_model_module_version": "1.2.0",
            "_view_count": null,
            "flex_flow": null,
            "width": null,
            "min_width": null,
            "border": null,
            "align_items": null,
            "bottom": null,
            "_model_module": "@jupyter-widgets/base",
            "top": null,
            "grid_column": null,
            "overflow_y": null,
            "overflow_x": null,
            "grid_auto_flow": null,
            "grid_area": null,
            "grid_template_columns": null,
            "flex": null,
            "_model_name": "LayoutModel",
            "justify_items": null,
            "grid_row": null,
            "max_height": null,
            "align_content": null,
            "visibility": null,
            "align_self": null,
            "height": null,
            "min_height": null,
            "padding": null,
            "grid_auto_rows": null,
            "grid_gap": null,
            "max_width": null,
            "order": null,
            "_view_module_version": "1.2.0",
            "grid_template_areas": null,
            "object_position": null,
            "object_fit": null,
            "grid_auto_columns": null,
            "margin": null,
            "display": null,
            "left": null
          }
        },
        "b96d2f9be5144a19a5c473abc7595e3a": {
          "model_module": "@jupyter-widgets/controls",
          "model_name": "HBoxModel",
          "state": {
            "_view_name": "HBoxView",
            "_dom_classes": [],
            "_model_name": "HBoxModel",
            "_view_module": "@jupyter-widgets/controls",
            "_model_module_version": "1.5.0",
            "_view_count": null,
            "_view_module_version": "1.5.0",
            "box_style": "",
            "layout": "IPY_MODEL_56fcb4451ddc4dfbbbe2a81efe80028d",
            "_model_module": "@jupyter-widgets/controls",
            "children": [
              "IPY_MODEL_d2d13fe360fe472694e69fb85ebf9306",
              "IPY_MODEL_dfdce1d6aedd43d394875952c0b68ad5"
            ]
          }
        },
        "56fcb4451ddc4dfbbbe2a81efe80028d": {
          "model_module": "@jupyter-widgets/base",
          "model_name": "LayoutModel",
          "state": {
            "_view_name": "LayoutView",
            "grid_template_rows": null,
            "right": null,
            "justify_content": null,
            "_view_module": "@jupyter-widgets/base",
            "overflow": null,
            "_model_module_version": "1.2.0",
            "_view_count": null,
            "flex_flow": null,
            "width": null,
            "min_width": null,
            "border": null,
            "align_items": null,
            "bottom": null,
            "_model_module": "@jupyter-widgets/base",
            "top": null,
            "grid_column": null,
            "overflow_y": null,
            "overflow_x": null,
            "grid_auto_flow": null,
            "grid_area": null,
            "grid_template_columns": null,
            "flex": null,
            "_model_name": "LayoutModel",
            "justify_items": null,
            "grid_row": null,
            "max_height": null,
            "align_content": null,
            "visibility": null,
            "align_self": null,
            "height": null,
            "min_height": null,
            "padding": null,
            "grid_auto_rows": null,
            "grid_gap": null,
            "max_width": null,
            "order": null,
            "_view_module_version": "1.2.0",
            "grid_template_areas": null,
            "object_position": null,
            "object_fit": null,
            "grid_auto_columns": null,
            "margin": null,
            "display": null,
            "left": null
          }
        },
        "d2d13fe360fe472694e69fb85ebf9306": {
          "model_module": "@jupyter-widgets/controls",
          "model_name": "FloatProgressModel",
          "state": {
            "_view_name": "ProgressView",
            "style": "IPY_MODEL_16c73508a44d4c8d85a27298dd571b58",
            "_dom_classes": [],
            "description": "Batches: 100%",
            "_model_name": "FloatProgressModel",
            "bar_style": "success",
            "max": 125,
            "_view_module": "@jupyter-widgets/controls",
            "_model_module_version": "1.5.0",
            "value": 125,
            "_view_count": null,
            "_view_module_version": "1.5.0",
            "orientation": "horizontal",
            "min": 0,
            "description_tooltip": null,
            "_model_module": "@jupyter-widgets/controls",
            "layout": "IPY_MODEL_9069a8019fcc49a0bea5fa05e80f01ac"
          }
        },
        "dfdce1d6aedd43d394875952c0b68ad5": {
          "model_module": "@jupyter-widgets/controls",
          "model_name": "HTMLModel",
          "state": {
            "_view_name": "HTMLView",
            "style": "IPY_MODEL_cf2b34e7bc1c43c4a23f538498337753",
            "_dom_classes": [],
            "description": "",
            "_model_name": "HTMLModel",
            "placeholder": "​",
            "_view_module": "@jupyter-widgets/controls",
            "_model_module_version": "1.5.0",
            "value": " 125/125 [00:41&lt;00:00,  3.03it/s]",
            "_view_count": null,
            "_view_module_version": "1.5.0",
            "description_tooltip": null,
            "_model_module": "@jupyter-widgets/controls",
            "layout": "IPY_MODEL_959c5b2fe3184ee39ba1bd874d2ecd9f"
          }
        },
        "16c73508a44d4c8d85a27298dd571b58": {
          "model_module": "@jupyter-widgets/controls",
          "model_name": "ProgressStyleModel",
          "state": {
            "_view_name": "StyleView",
            "_model_name": "ProgressStyleModel",
            "description_width": "initial",
            "_view_module": "@jupyter-widgets/base",
            "_model_module_version": "1.5.0",
            "_view_count": null,
            "_view_module_version": "1.2.0",
            "bar_color": null,
            "_model_module": "@jupyter-widgets/controls"
          }
        },
        "9069a8019fcc49a0bea5fa05e80f01ac": {
          "model_module": "@jupyter-widgets/base",
          "model_name": "LayoutModel",
          "state": {
            "_view_name": "LayoutView",
            "grid_template_rows": null,
            "right": null,
            "justify_content": null,
            "_view_module": "@jupyter-widgets/base",
            "overflow": null,
            "_model_module_version": "1.2.0",
            "_view_count": null,
            "flex_flow": null,
            "width": null,
            "min_width": null,
            "border": null,
            "align_items": null,
            "bottom": null,
            "_model_module": "@jupyter-widgets/base",
            "top": null,
            "grid_column": null,
            "overflow_y": null,
            "overflow_x": null,
            "grid_auto_flow": null,
            "grid_area": null,
            "grid_template_columns": null,
            "flex": null,
            "_model_name": "LayoutModel",
            "justify_items": null,
            "grid_row": null,
            "max_height": null,
            "align_content": null,
            "visibility": null,
            "align_self": null,
            "height": null,
            "min_height": null,
            "padding": null,
            "grid_auto_rows": null,
            "grid_gap": null,
            "max_width": null,
            "order": null,
            "_view_module_version": "1.2.0",
            "grid_template_areas": null,
            "object_position": null,
            "object_fit": null,
            "grid_auto_columns": null,
            "margin": null,
            "display": null,
            "left": null
          }
        },
        "cf2b34e7bc1c43c4a23f538498337753": {
          "model_module": "@jupyter-widgets/controls",
          "model_name": "DescriptionStyleModel",
          "state": {
            "_view_name": "StyleView",
            "_model_name": "DescriptionStyleModel",
            "description_width": "",
            "_view_module": "@jupyter-widgets/base",
            "_model_module_version": "1.5.0",
            "_view_count": null,
            "_view_module_version": "1.2.0",
            "_model_module": "@jupyter-widgets/controls"
          }
        },
        "959c5b2fe3184ee39ba1bd874d2ecd9f": {
          "model_module": "@jupyter-widgets/base",
          "model_name": "LayoutModel",
          "state": {
            "_view_name": "LayoutView",
            "grid_template_rows": null,
            "right": null,
            "justify_content": null,
            "_view_module": "@jupyter-widgets/base",
            "overflow": null,
            "_model_module_version": "1.2.0",
            "_view_count": null,
            "flex_flow": null,
            "width": null,
            "min_width": null,
            "border": null,
            "align_items": null,
            "bottom": null,
            "_model_module": "@jupyter-widgets/base",
            "top": null,
            "grid_column": null,
            "overflow_y": null,
            "overflow_x": null,
            "grid_auto_flow": null,
            "grid_area": null,
            "grid_template_columns": null,
            "flex": null,
            "_model_name": "LayoutModel",
            "justify_items": null,
            "grid_row": null,
            "max_height": null,
            "align_content": null,
            "visibility": null,
            "align_self": null,
            "height": null,
            "min_height": null,
            "padding": null,
            "grid_auto_rows": null,
            "grid_gap": null,
            "max_width": null,
            "order": null,
            "_view_module_version": "1.2.0",
            "grid_template_areas": null,
            "object_position": null,
            "object_fit": null,
            "grid_auto_columns": null,
            "margin": null,
            "display": null,
            "left": null
          }
        }
      }
    }
  },
  "cells": [
    {
      "cell_type": "code",
      "metadata": {
        "colab": {
          "base_uri": "https://localhost:8080/"
        },
        "id": "xnGWXCgXCfqL",
        "outputId": "411a7eac-e2c5-4bba-ac5a-6de53f03dc2b"
      },
      "source": [
        "!pip install -U sentence-transformers"
      ],
      "execution_count": 1,
      "outputs": [
        {
          "output_type": "stream",
          "text": [
            "Collecting sentence-transformers\n",
            "\u001b[?25l  Downloading https://files.pythonhosted.org/packages/6a/e2/84d6acfcee2d83164149778a33b6bdd1a74e1bcb59b2b2cd1b861359b339/sentence-transformers-0.4.1.2.tar.gz (64kB)\n",
            "\u001b[K     |████████████████████████████████| 71kB 5.4MB/s \n",
            "\u001b[?25hCollecting transformers<5.0.0,>=3.1.0\n",
            "\u001b[?25l  Downloading https://files.pythonhosted.org/packages/88/b1/41130a228dd656a1a31ba281598a968320283f48d42782845f6ba567f00b/transformers-4.2.2-py3-none-any.whl (1.8MB)\n",
            "\u001b[K     |████████████████████████████████| 1.8MB 10.7MB/s \n",
            "\u001b[?25hRequirement already satisfied, skipping upgrade: tqdm in /usr/local/lib/python3.6/dist-packages (from sentence-transformers) (4.41.1)\n",
            "Requirement already satisfied, skipping upgrade: torch>=1.6.0 in /usr/local/lib/python3.6/dist-packages (from sentence-transformers) (1.7.0+cu101)\n",
            "Requirement already satisfied, skipping upgrade: numpy in /usr/local/lib/python3.6/dist-packages (from sentence-transformers) (1.19.5)\n",
            "Requirement already satisfied, skipping upgrade: scikit-learn in /usr/local/lib/python3.6/dist-packages (from sentence-transformers) (0.22.2.post1)\n",
            "Requirement already satisfied, skipping upgrade: scipy in /usr/local/lib/python3.6/dist-packages (from sentence-transformers) (1.4.1)\n",
            "Requirement already satisfied, skipping upgrade: nltk in /usr/local/lib/python3.6/dist-packages (from sentence-transformers) (3.2.5)\n",
            "Collecting sentencepiece\n",
            "\u001b[?25l  Downloading https://files.pythonhosted.org/packages/14/67/e42bd1181472c95c8cda79305df848264f2a7f62740995a46945d9797b67/sentencepiece-0.1.95-cp36-cp36m-manylinux2014_x86_64.whl (1.2MB)\n",
            "\u001b[K     |████████████████████████████████| 1.2MB 17.2MB/s \n",
            "\u001b[?25hRequirement already satisfied, skipping upgrade: filelock in /usr/local/lib/python3.6/dist-packages (from transformers<5.0.0,>=3.1.0->sentence-transformers) (3.0.12)\n",
            "Collecting tokenizers==0.9.4\n",
            "\u001b[?25l  Downloading https://files.pythonhosted.org/packages/0f/1c/e789a8b12e28be5bc1ce2156cf87cb522b379be9cadc7ad8091a4cc107c4/tokenizers-0.9.4-cp36-cp36m-manylinux2010_x86_64.whl (2.9MB)\n",
            "\u001b[K     |████████████████████████████████| 2.9MB 51.6MB/s \n",
            "\u001b[?25hRequirement already satisfied, skipping upgrade: packaging in /usr/local/lib/python3.6/dist-packages (from transformers<5.0.0,>=3.1.0->sentence-transformers) (20.8)\n",
            "Requirement already satisfied, skipping upgrade: requests in /usr/local/lib/python3.6/dist-packages (from transformers<5.0.0,>=3.1.0->sentence-transformers) (2.23.0)\n",
            "Requirement already satisfied, skipping upgrade: dataclasses; python_version < \"3.7\" in /usr/local/lib/python3.6/dist-packages (from transformers<5.0.0,>=3.1.0->sentence-transformers) (0.8)\n",
            "Requirement already satisfied, skipping upgrade: regex!=2019.12.17 in /usr/local/lib/python3.6/dist-packages (from transformers<5.0.0,>=3.1.0->sentence-transformers) (2019.12.20)\n",
            "Requirement already satisfied, skipping upgrade: importlib-metadata; python_version < \"3.8\" in /usr/local/lib/python3.6/dist-packages (from transformers<5.0.0,>=3.1.0->sentence-transformers) (3.3.0)\n",
            "Collecting sacremoses\n",
            "\u001b[?25l  Downloading https://files.pythonhosted.org/packages/7d/34/09d19aff26edcc8eb2a01bed8e98f13a1537005d31e95233fd48216eed10/sacremoses-0.0.43.tar.gz (883kB)\n",
            "\u001b[K     |████████████████████████████████| 890kB 43.1MB/s \n",
            "\u001b[?25hRequirement already satisfied, skipping upgrade: future in /usr/local/lib/python3.6/dist-packages (from torch>=1.6.0->sentence-transformers) (0.16.0)\n",
            "Requirement already satisfied, skipping upgrade: typing-extensions in /usr/local/lib/python3.6/dist-packages (from torch>=1.6.0->sentence-transformers) (3.7.4.3)\n",
            "Requirement already satisfied, skipping upgrade: joblib>=0.11 in /usr/local/lib/python3.6/dist-packages (from scikit-learn->sentence-transformers) (1.0.0)\n",
            "Requirement already satisfied, skipping upgrade: six in /usr/local/lib/python3.6/dist-packages (from nltk->sentence-transformers) (1.15.0)\n",
            "Requirement already satisfied, skipping upgrade: pyparsing>=2.0.2 in /usr/local/lib/python3.6/dist-packages (from packaging->transformers<5.0.0,>=3.1.0->sentence-transformers) (2.4.7)\n",
            "Requirement already satisfied, skipping upgrade: idna<3,>=2.5 in /usr/local/lib/python3.6/dist-packages (from requests->transformers<5.0.0,>=3.1.0->sentence-transformers) (2.10)\n",
            "Requirement already satisfied, skipping upgrade: urllib3!=1.25.0,!=1.25.1,<1.26,>=1.21.1 in /usr/local/lib/python3.6/dist-packages (from requests->transformers<5.0.0,>=3.1.0->sentence-transformers) (1.24.3)\n",
            "Requirement already satisfied, skipping upgrade: certifi>=2017.4.17 in /usr/local/lib/python3.6/dist-packages (from requests->transformers<5.0.0,>=3.1.0->sentence-transformers) (2020.12.5)\n",
            "Requirement already satisfied, skipping upgrade: chardet<4,>=3.0.2 in /usr/local/lib/python3.6/dist-packages (from requests->transformers<5.0.0,>=3.1.0->sentence-transformers) (3.0.4)\n",
            "Requirement already satisfied, skipping upgrade: zipp>=0.5 in /usr/local/lib/python3.6/dist-packages (from importlib-metadata; python_version < \"3.8\"->transformers<5.0.0,>=3.1.0->sentence-transformers) (3.4.0)\n",
            "Requirement already satisfied, skipping upgrade: click in /usr/local/lib/python3.6/dist-packages (from sacremoses->transformers<5.0.0,>=3.1.0->sentence-transformers) (7.1.2)\n",
            "Building wheels for collected packages: sentence-transformers, sacremoses\n",
            "  Building wheel for sentence-transformers (setup.py) ... \u001b[?25l\u001b[?25hdone\n",
            "  Created wheel for sentence-transformers: filename=sentence_transformers-0.4.1.2-cp36-none-any.whl size=103068 sha256=d8b5adab2baec5b6849fe19529a7ee461497827f7baddb197319de2a791ac699\n",
            "  Stored in directory: /root/.cache/pip/wheels/3d/33/d1/5703dd56199c09d4a1b41e0c07fb4e7765a84d787cbdc48ac3\n",
            "  Building wheel for sacremoses (setup.py) ... \u001b[?25l\u001b[?25hdone\n",
            "  Created wheel for sacremoses: filename=sacremoses-0.0.43-cp36-none-any.whl size=893261 sha256=274124451e48132ad5b8d2f4d513a01146c39122078910376b412c9a30249749\n",
            "  Stored in directory: /root/.cache/pip/wheels/29/3c/fd/7ce5c3f0666dab31a50123635e6fb5e19ceb42ce38d4e58f45\n",
            "Successfully built sentence-transformers sacremoses\n",
            "Installing collected packages: tokenizers, sacremoses, transformers, sentencepiece, sentence-transformers\n",
            "Successfully installed sacremoses-0.0.43 sentence-transformers-0.4.1.2 sentencepiece-0.1.95 tokenizers-0.9.4 transformers-4.2.2\n"
          ],
          "name": "stdout"
        }
      ]
    },
    {
      "cell_type": "code",
      "metadata": {
        "id": "Gr7rxUjICgw2"
      },
      "source": [
        "import pandas as pd\n",
        "import numpy as np\n",
        "import torch\n",
        "import time\n",
        "\n",
        "from typing import Generator\n",
        "from sentence_transformers import SentenceTransformer, CrossEncoder, util"
      ],
      "execution_count": 2,
      "outputs": []
    },
    {
      "cell_type": "code",
      "metadata": {
        "id": "sWfc94eJCioG"
      },
      "source": [
        "# load data\n",
        "dataset_untagged = pd.read_pickle('dataset_untagged.pickle')"
      ],
      "execution_count": 4,
      "outputs": []
    },
    {
      "cell_type": "code",
      "metadata": {
        "id": "KR8onKrNKbTi"
      },
      "source": [
        "# drop np.NaNs\n",
        "df = dataset_untagged.copy().dropna()"
      ],
      "execution_count": 5,
      "outputs": []
    },
    {
      "cell_type": "code",
      "metadata": {
        "id": "SgDiRYJsKsvF"
      },
      "source": [
        "# request to enable GPU \n",
        "if not torch.cuda.is_available():\n",
        "  print(\"Warning: No GPU found. Please add GPU to your notebook\")"
      ],
      "execution_count": 6,
      "outputs": []
    },
    {
      "cell_type": "markdown",
      "metadata": {
        "id": "3W8ri2YnQ3Br"
      },
      "source": [
        "## **Semantic Search**\n",
        "\n",
        "---\n",
        "\n",
        "The idea is to compute embeddings of the query (entered by user) and use cosine similarity to find the `top_k` most similar blocks. \n",
        "\n",
        "Blocks are nothing but the entire video transcript (big string) split into fixed length strings (small strings, ~230 words). \n",
        "\n",
        "---\n",
        "\n",
        "The reason for such a design choice was threefold, andled by `chunker.py` (refer the repo):\n",
        "\n",
        "1. First and foremost, some videoes can be very long (over ~40 minutes) which means the transcript for the same is a **massive** string, and we need to avoid hitting the processing length limits of pre-trained models. \n",
        "\n",
        "2. Secondly, and more importantly, it is always good to maintain the inputs at a length on which the models being used were trained (to stay as close as poossible to the training set for optimum results).\n",
        "\n",
        "3. But perhaps, most importantly, the purpose for splitting transcripts to blocks is so that the recommendations can be targeted to a snippet within a video. The vision is to recommend many snippets from various videoes highly relevant to the query, rather than entire videoes themselves in which matching snippets have been found (which may sometimes be long and the content may not always be related to the query).\n",
        "\n",
        "---"
      ]
    },
    {
      "cell_type": "code",
      "metadata": {
        "colab": {
          "base_uri": "https://localhost:8080/",
          "height": 279,
          "referenced_widgets": [
            "f12bf04b33f842fd8eb2752c29218aa2",
            "32eb7717b09d4e5ca8538b1f4103cfdc",
            "24b9970751d0406caed21675d81d0435",
            "06efa733613b411198b073f8b4a1ab99",
            "9747038d71394149ab116f0c6e45929f",
            "7247a7cb022f4c3f845b91e861fa452a",
            "08ca9ff48f95477280ae89f8af449ac9",
            "fa0925f561ae4d1ea4f0afafd5a99f83",
            "dcd5a5c73265461998a2bf4c26b9885f",
            "bf902784bad44374a73377fb413bd78d",
            "d9713a01592d4bd19077b801cc6491a6",
            "a002868abc3c477e8196f18217059c9d",
            "079ce04f502943d8af6ce87ccafb0f9e",
            "bc4f14ce5aa0422381fd75bde6008ee7",
            "be86d5a8e91c4911ab738b3728d31b19",
            "4ea4b9d9676e44f594a17bb2c102be02",
            "d3870186ec874785bff9d7db129c8590",
            "32b72a7a072443408c64d845191e0f9c",
            "e4cad863afa04025aaaa3211d02fd8e4",
            "aad93f927b894cd5aa2f714756ae8e2c",
            "e537e19b48d345c9919c5f6b0b7c1b6a",
            "1edaa5ed114d4e20b8e3f3f455ddc480",
            "30ee411062a946ebace543179441a36f",
            "f3b2116f8b674d8eb0ad55049a672545",
            "b248ed1c651c4854aac2912eccb6a6c3",
            "2aacaa2865bc4f62a7a3a2ef0f8fdf0c",
            "37bae89250df4181a7a568889de8202d",
            "c9d9451cccf643a292d0f5ff46f1b53f",
            "13864a27ac784b7f8d4e41c81895e54f",
            "c8500fb091aa43019bd3e62476b402e3",
            "1788ac2d94b344059eef8081a49b6f31",
            "b4bd1fa9eb024444853b2d9099691e11",
            "38f3c6256caf4619b3cd91bd15aa28da",
            "2a34f3eab1944722a635f8bee76db714",
            "dd50ef9d33ef45a7957ebda145c9e732",
            "c6a329938f0a4d5c83e5ff7aecc63a2c",
            "f9cdecd57b1a43a69791fde5dc9c9cdf",
            "64df8eb9f286430dbbb669e429d7c649",
            "a3a15cbd23e8454a9ff43d7ca5c81062",
            "4025afade8c5482d9139437e6dfb8001"
          ]
        },
        "id": "Y0hWIUytKxu-",
        "outputId": "ca80d2fe-be79-49ff-b6cf-66960dc2fe3f"
      },
      "source": [
        "# load model (to encode the dataset)\n",
        "bi_encoder = SentenceTransformer('msmarco-distilbert-base-v2')\n",
        "\n",
        "# number of blocks we want to retrieve with the bi-encoder\n",
        "top_k = 50     \n",
        "\n",
        "# the bi-encoder will retrieve 50 blocks (top_k). \n",
        "# we use a cross-encoder, to re-rank the results list to improve the quality.\n",
        "cross_encoder = CrossEncoder('cross-encoder/ms-marco-TinyBERT-L-6')"
      ],
      "execution_count": 7,
      "outputs": [
        {
          "output_type": "stream",
          "text": [
            "100%|██████████| 245M/245M [00:14<00:00, 16.4MB/s]\n"
          ],
          "name": "stderr"
        },
        {
          "output_type": "display_data",
          "data": {
            "application/vnd.jupyter.widget-view+json": {
              "model_id": "f12bf04b33f842fd8eb2752c29218aa2",
              "version_minor": 0,
              "version_major": 2
            },
            "text/plain": [
              "HBox(children=(FloatProgress(value=0.0, description='Downloading', max=612.0, style=ProgressStyle(description_…"
            ]
          },
          "metadata": {
            "tags": []
          }
        },
        {
          "output_type": "stream",
          "text": [
            "\n"
          ],
          "name": "stdout"
        },
        {
          "output_type": "display_data",
          "data": {
            "application/vnd.jupyter.widget-view+json": {
              "model_id": "dcd5a5c73265461998a2bf4c26b9885f",
              "version_minor": 0,
              "version_major": 2
            },
            "text/plain": [
              "HBox(children=(FloatProgress(value=0.0, description='Downloading', max=267871721.0, style=ProgressStyle(descri…"
            ]
          },
          "metadata": {
            "tags": []
          }
        },
        {
          "output_type": "stream",
          "text": [
            "\n"
          ],
          "name": "stdout"
        },
        {
          "output_type": "display_data",
          "data": {
            "application/vnd.jupyter.widget-view+json": {
              "model_id": "d3870186ec874785bff9d7db129c8590",
              "version_minor": 0,
              "version_major": 2
            },
            "text/plain": [
              "HBox(children=(FloatProgress(value=0.0, description='Downloading', max=231508.0, style=ProgressStyle(descripti…"
            ]
          },
          "metadata": {
            "tags": []
          }
        },
        {
          "output_type": "stream",
          "text": [
            "\n"
          ],
          "name": "stdout"
        },
        {
          "output_type": "display_data",
          "data": {
            "application/vnd.jupyter.widget-view+json": {
              "model_id": "b248ed1c651c4854aac2912eccb6a6c3",
              "version_minor": 0,
              "version_major": 2
            },
            "text/plain": [
              "HBox(children=(FloatProgress(value=0.0, description='Downloading', max=112.0, style=ProgressStyle(description_…"
            ]
          },
          "metadata": {
            "tags": []
          }
        },
        {
          "output_type": "stream",
          "text": [
            "\n"
          ],
          "name": "stdout"
        },
        {
          "output_type": "display_data",
          "data": {
            "application/vnd.jupyter.widget-view+json": {
              "model_id": "38f3c6256caf4619b3cd91bd15aa28da",
              "version_minor": 0,
              "version_major": 2
            },
            "text/plain": [
              "HBox(children=(FloatProgress(value=0.0, description='Downloading', max=541.0, style=ProgressStyle(description_…"
            ]
          },
          "metadata": {
            "tags": []
          }
        },
        {
          "output_type": "stream",
          "text": [
            "\n"
          ],
          "name": "stdout"
        }
      ]
    },
    {
      "cell_type": "code",
      "metadata": {
        "colab": {
          "base_uri": "https://localhost:8080/",
          "height": 120,
          "referenced_widgets": [
            "b96d2f9be5144a19a5c473abc7595e3a",
            "56fcb4451ddc4dfbbbe2a81efe80028d",
            "d2d13fe360fe472694e69fb85ebf9306",
            "dfdce1d6aedd43d394875952c0b68ad5",
            "16c73508a44d4c8d85a27298dd571b58",
            "9069a8019fcc49a0bea5fa05e80f01ac",
            "cf2b34e7bc1c43c4a23f538498337753",
            "959c5b2fe3184ee39ba1bd874d2ecd9f"
          ]
        },
        "id": "EkSLo3uWLD_M",
        "outputId": "8599ae41-310d-4818-eaaf-1740609d0bf3"
      },
      "source": [
        "# encode dataset\n",
        "corpus_embeddings = bi_encoder.encode(df.block.to_list(), convert_to_tensor=True, show_progress_bar=True)\n",
        "\n",
        "# send corpus embeddings to GPU\n",
        "corpus_embeddings = torch.tensor(corpus_embeddings).cuda()"
      ],
      "execution_count": 8,
      "outputs": [
        {
          "output_type": "display_data",
          "data": {
            "application/vnd.jupyter.widget-view+json": {
              "model_id": "b96d2f9be5144a19a5c473abc7595e3a",
              "version_minor": 0,
              "version_major": 2
            },
            "text/plain": [
              "HBox(children=(FloatProgress(value=0.0, description='Batches', max=125.0, style=ProgressStyle(description_widt…"
            ]
          },
          "metadata": {
            "tags": []
          }
        },
        {
          "output_type": "stream",
          "text": [
            "\n"
          ],
          "name": "stdout"
        },
        {
          "output_type": "stream",
          "text": [
            "/usr/local/lib/python3.6/dist-packages/ipykernel_launcher.py:5: UserWarning: To copy construct from a tensor, it is recommended to use sourceTensor.clone().detach() or sourceTensor.clone().detach().requires_grad_(True), rather than torch.tensor(sourceTensor).\n",
            "  \"\"\"\n"
          ],
          "name": "stderr"
        }
      ]
    },
    {
      "cell_type": "code",
      "metadata": {
        "id": "NAVcBDavLJMA"
      },
      "source": [
        "# this function will search the dataset for passages that answer the query\n",
        "def search(query):\n",
        "  start_time = time.time()\n",
        "\n",
        "  # encode the query using the bi-encoder and find potentially relevant passages\n",
        "  question_embedding = bi_encoder.encode(query, convert_to_tensor=True)\n",
        "\n",
        "  # send query embeddings to GPU\n",
        "  question_embedding = question_embedding.cuda()\n",
        "\n",
        "  # perform sematic search by computing cosine similarity between corpus and query embeddings\n",
        "  # return top_k highest similarity matches\n",
        "  hits = util.semantic_search(question_embedding, corpus_embeddings, top_k=top_k)[0]\n",
        "\n",
        "  # now, score all retrieved passages with the cross_encoder\n",
        "  cross_inp = [[query, df.block.to_list()[hit['corpus_id']]] for hit in hits]\n",
        "  cross_scores = cross_encoder.predict(cross_inp)\n",
        "\n",
        "  # sort results by the cross-encoder scores\n",
        "  for idx in range(len(cross_scores)):\n",
        "      hits[idx]['cross-score'] = cross_scores[idx]\n",
        "  hits = sorted(hits, key=lambda x: x['cross-score'], reverse=True)\n",
        "  end_time = time.time()\n",
        "\n",
        "  # print output of top-5 hits (for iteractive environments only)\n",
        "  print(f\"Input query: {query}\")\n",
        "  print(f\"Results (after {round(end_time - start_time, 2)} seconds):\")\n",
        "  for hit in hits[0:5]:\n",
        "    print(\"\\t{:.3f}\\t{}\".format(hit['cross-score'], df.block.to_list()[hit['corpus_id']].replace(\"\\n\", \" \")))"
      ],
      "execution_count": 10,
      "outputs": []
    },
    {
      "cell_type": "code",
      "metadata": {
        "colab": {
          "base_uri": "https://localhost:8080/"
        },
        "id": "kMfV4zNMMk5I",
        "outputId": "7dbb7f46-998c-4550-fd28-b727e8d04211"
      },
      "source": [
        "query = \"I feel lost in life. I feel like there is no purpose of living. How should I deal with this?\"\n",
        "search(query)"
      ],
      "execution_count": 11,
      "outputs": [
        {
          "output_type": "stream",
          "text": [
            "Input query: I feel lost in life. I feel like there is no purpose of living. How should I deal with this?\n",
            "Results (after 0.97 seconds):\n",
            "\t0.824\tyou're only exploring life because nothing else you have access to. Yes. Right now I may think I'm looking at this person. But no, I am only looking at the image that happens in my mind, isn't it so? Right now, if you touch somebody next to you, you think you're experiencing that person's hand. No, you only experience the sensations in your hand, isn't it so? So your entire experience of life is absolutely within you. That means you are capable of experiencing only this one life. So is it a trap that you can only experience this? No. If you experience this, then everything becomes a possibility because, see, when it comes to body, we clearly know this is my body, that's your body, hundred percent. This is my mind, that’s your mind, one hundred percent, isn't it? But when it comes to life, there is no such thing as your life and my life. This is a living cosmos. You just captured a little bit of it. How much you captured, how much life have you gathered within you will determine what is the scope and scale of your life. So whether you call it art, whether you call it music, whether you call it spiritual process or whatever the nature of activity, activity is a means to open up your borders of individuality. Well that first question, is it a way of stamping\n",
            "\t0.670\tyou also dismantle your security, isn't it? You also dismantle your sense of purpose. You also dismantle everything that matters to you. So, that will need balance. Without balance, if you dismantle you’ll go crazy. But, don’t look for a purpose because if you look for a purpose, you are seeking madness. If you find one, you are sure mad. Yes. (Laughter) If you think you’ve found a purpose in life, you still… you’re for sure gone crazy because only the insane people have purpose or people who have a purpose are insane in many ways. These are things that you create in your mind and believe it's true, isn't it? Right now - ‘fighting for my country is my purpose’ right now if it's necessary, I’ll fight knowing fully well it's an unnecessary bloody fight. Yes. Then you’ll fight only to the extent it's necessary. If you think this is your purpose, you would want to destroy the whole world for what nonsense you believe in, isn't it? you would want to destroy the whole world for what nonsense you believe in, isn't it? If something is needed, we will do it with… with absolute involvement. There’s no other purpose. The purpose of life is to live and to live totally. To live totally does not mean party every night. (Laughter) To live totally means before you fall dead, every aspect of life has been explored nothing has been left unexplored. Yes? Before you fall dead, even if you do not explore the cosmos, at least this piece of life (Referring to oneself) you must know it in its entirety. That much you must do to yourself, isn't it? That’s living totally that you experience the whole of this, all dimensions of what this is. (Gestures) You did not live anything untouched. You just do that. That will take a long time. That’s …good enough purpose for you. (Laughs)\n",
            "\t0.421\tTo be spiritual means everything in you is alive absolutely. Now, there is no choice about being alive or being dead, “Should I live?” “To be, not to be… To be or not to be” is supposed to be a very intelligent question, it’s… it… it always sounded as the dumbest question to me. One who has not tasted life, one who knows only life by thought, only in his mind such questions will come. If you're alive to your fullest extent “To be, not to be” will never come because whatever happens you will be. (Laughs) Even if you jump into the Hooghly, you still be. (Laughs) So, spiritual process is not for the dead or the dying; it's for those who are alive and who want to become fully alive, absolutely alive, to be alive on all dimensions of who you are. If this doesn’t happen, life will torture you in so many ways, it doesn’t matter what  you fix. It doesn’t matter you fix up your finances, it doesn’t matter, you have insured relationships around you insured relationships are always torture anyway. Whatever you fix in your life, still life will torture you because you're half alive. So, this idea we have to remove from the world that spirituality is for the dying. It's for the living! Nobody is dying, everybody is living. You can either live with the body or without the body (Laughs), really.\n",
            "\t0.224\tSadhguru: The life within you  always wants to be alive, always longing to hit the  highest peak possible. Life is always exuberant  and effervescent. It is only psychologically, you have hit a depressive mode. You got lost in the logical  dimension of your mind. Your intelligence says one thing but the logical thinking  says something else altogether. The repetitive nature of your daily  life can itself be depressive. I want you to understand this – moments of extreme logic  are moments of suicide. Depression means you’re committing suicide in installments. More and more you apply your  logic to your life, the less and less alive you become. Your logic should be employed only to handle the material  aspects of your life. If you apply logic to your life itself, you will become depressed. you will become depressed. If you eliminate everything that means something to you – the birds in the sky, the flowers in your garden, your child’s face – and dissect your life with your logic, depression will be the destination. It is time you rejig your life. The most valuable thing in  your life is life itself. Where you live, what you drive, what you wear, what you eat – these are all accessories to life. You’re alive right now. this is the biggest phenomenon This is the greatest joy You need to clearly understand, it doesn’t pay to be unhappy, depressed or sick. Being joyful and ecstatic pays and if it doesn’t pay, who cares (Laughs)? once the human being becomes more and more aware of his own nature he understands to experience love to experience blissfulness to experience ecstasy even to experience orgasmic ways of life you don't need anybody actually\n",
            "\t0.174\tQuestioner: What’s… what’s for me the purpose of life, if you can give an insight on that? Thank you. Sadhguru: Isn't it fantastic that if there is no purpose, you have nothing to fulfill, you can just live? Hmm? No, but you want a purpose and not a simple purpose, you want a God-given purpose. (Laughter) It's very dangerous. People who think they have a God-given purpose are doing the cruelest things on the planet. Yes or no? They are doing the most horrible things and they’ve always been doing the most horrible things because when you have a God-given purpose, life here becomes less important than your purpose. No, life is important. Life is important - when I say life, I am not talking about your family, your work, what you do, what you do not do, you party I am not talking about that as life. This is life, isn't it? Life is within you or around you? The… the ambiance of life you’re mistaking the ambiance of life for life. Your home, your family, your workspace, your party this is all ambiance of life. This is not life, isn't it? Yes or no? Participants: Yes. Sadhguru: You’re mistaking the ambiance for the real thing. No. Life is important because it's the only thing you know, you don't know anything else. Do you know something else?\n"
          ],
          "name": "stdout"
        }
      ]
    },
    {
      "cell_type": "code",
      "metadata": {
        "colab": {
          "base_uri": "https://localhost:8080/"
        },
        "id": "WGUY6LjXModr",
        "outputId": "7a0f1ab3-954c-480c-864b-aad4ce164fbd"
      },
      "source": [
        "query = \"I just recently became a parent and I am feeling very nervous. What is the best way to bring up a child?\"\n",
        "search(query)"
      ],
      "execution_count": 12,
      "outputs": [
        {
          "output_type": "stream",
          "text": [
            "Input query: I just recently became a parent and I am feeling very nervous. What is the best way to bring up a child?\n",
            "Results (after 0.69 seconds):\n",
            "\t0.468\tSadhguru: Ohoo! Only your neighbors should see whether your daughter or your child is a girl or a boy. You should never see whether this is a girl or a boy It’s the first thing Neighborhood boys will see that this is a girl, that’s okay You should not be wondering whether this is a boy or a girl, this is just a child. And the best thing you can do for your child is if you think the way you are is everything, naturally your aspiration will be they should become like you, which will be a backward step for next generation of people. What the next generation should be – what you cannot imagine, that’s what they should be. If you mold them how will you mold them? Like yourself, and maybe your parents were better at molding than you, so you will do a worse job than them Because probably your mother, your father at least for your mother maybe it was a fulltime job molding business you’re part-time molder, we can imagine what you will do. Don’t try to mold them. Just a child needs a stable, pleasant atmosphere to grow – to create a joyful I’m saying first joyful, first joyful then loving, do you understand? Otherwise this just bloody sappy love without any joy and bliss around it is\n",
            "\t0.112\tYou have brilliant views on every issue that one can ever question. Yet I know very little about you and it You know here’s a brilliant mind with an… for lack of better words, I would say ‘out-of-the-Box’ thinking - so different, so refreshing, so enlightening. I am fascinated and I want to know about your life. And I’d like to know that I mean, were you just born brilliant? Did it begin from that very moment? Sadhguru: I was a normal birth. I didn’t come in a box (Laughter). My mother had a normal child. Juhi Chawla: No, you know, I’m from the movies and I can’t help thinking – was it like it is in story books, that a venerable sage came to your home and when he looked at your mother, he said (Laughter), “There is going to be born a Guru. Rejoice. He will lighten his own path and that of others? Sadhguru: You also… You also going like this? (Laughter) Juhi Chawla: No, but was it like that or how was it? How was your childhood? Sadhguru: I don’t think they all came to listen to my mother’s labor pains (Laughter). Juhi Chawla: No, I’m really fascinated, intrigued that we’re all here but you know, the way you think, we wait to hear what you have to say. We’ve all been little children\n",
            "\t0.102\tVijay Devarkonda: But this applies to parents. I understand because when you were helpless like one animal, they brought you up and… but the siblings. Sadhguru: Oh, I didn’t know you were born as a animal, I thought… (Laughter). Vijay Devarkonda: I think that kids… babies are pretty much animals. They piss everywhere, poop everywhere, cry, bawl. (Laughter) So like kids I think are pretty much animals. As you grow up I think you become smarter, and cultured but… Sadhguru: (Laughs) But a whole lot of people say, “I want to be like a child.” Vijay Devarkonda: I think they mean like in their school (Sadhguru Laughs)… in their school where they’re just running around and everything was taken care. But I was asking you… like what you said, definitely we should be grateful for the people, who brought you up, but what about siblings who didn’t offer so much to your growth, or friends, or work colleagues for example. Sadhguru: See, relationships… any kind of relationship. If you are straight about it, as you already mentioned once, in this conversation, it’s a kind of a transaction. No transaction will continue for long, if it is just one way. In some way both the parties have to benefit, only then it goes on, whether it’s market or marriage. That’s the reality. Only if both the parties are benefiting, transactions will go on.\n",
            "\t0.096\tBut at least you must become the way you like it - the way you are That is a must But that will only create the necessary ambience It still doesn't make you necessarily a good parent, but it creates the necessary ambience But creating the necessary ambience is a  large part of parenthood, large part. If you create the right kind of atmosphere, of a certain sense of joy and love and care and discipline, for yourself and your home atmosphere, generally they grow up. Of course you want to provide opportunities for them. Each one of us can provide opportunities only to the extent it's available to us, isn't it? Yes? You cannot provide an opportunity for which  you don't have access You will always do according to your limitations I am sure in that area you will do your best, but the important thing is what kind of human beings or brats you raise? For that, what kind of human being are you is an extremely  important part of raising children So if your wife became pregnant, it's time for transformation for you Because now another life is coming in You yourself are the way you don't like yourself to be, Definitely one more need not go that way, isn't it? So, becoming conscious of what we are doing Is  extremely important\n",
            "\t0.049\tSadhguru, what should be the role of a good parent in today's world? See, parenthood is a very funny thing You're trying to do something that nobody has ever known how to do it well Yes? Nobody has ever known what is the best way to parent their children Even if you have 12 children, you are still learning You may raise eleven properly the twelfth one can give you works, you know? So.. But you want to do your best what is the best thing you can do? One foremost thing I would say is First thing is to work upon yourself a little bit. Spend sufficient time with yourself. Look at yourself carefully How you are? How you sit? How you stand? How you speak? What you do? What you don't do? I think you must look at yourself  very carefully because the children are picking up everything rapidly and they'll exaggerate everything  that you're doing So one foremost thing is, At least make yourself in such a way that you would like to be. Somebody may not approve. It doesn't matter At least you've made yourself in such a way that you like the way you are At least that much you must do Maybe you cannot raise to somebody else's standards We don't know what kind of standards they set for you\n"
          ],
          "name": "stdout"
        }
      ]
    },
    {
      "cell_type": "code",
      "metadata": {
        "colab": {
          "base_uri": "https://localhost:8080/"
        },
        "id": "xb_5tlbnTDS1",
        "outputId": "8bdc80ad-a314-4189-ef5f-3f4abd4acc99"
      },
      "source": [
        "query = \"I had a divorce. I feel like a failure. How should I handle this heartbreak?\"\n",
        "search(query)"
      ],
      "execution_count": 17,
      "outputs": [
        {
          "output_type": "stream",
          "text": [
            "Input query: I had a divorce. I feel like a failure. How should I handle this heartbreak?\n",
            "Results (after 0.87 seconds):\n",
            "\t0.042\tthe best way to conduct a divorce is immediately jump into another relationship and another relationship of the same kind. No, you will cause much more struggle and turmoil within the system by doing that. It’s extremely important the body has enough time to work out the memory, the body has enough time to keep the memory at a certain distance. Otherwise, you will render yourself to a space, where to make yourself peaceful and joyful will become an extremely hard thing to do in your life. So conducting this process gracefully and well is important as it is important to conduct every aspect of your life gracefully and well. Now, two people, who have shared their emotion, their body, their sensations and their living spaces, ripping it apart is because two memories have merged in many ways, ripping it apart is almost like tearing yourself apart. Even though you might have begun to almost come to a place, where you can’t stand the person anymore, still it hurts, simply because you’re trying to rip out a memory, which is you, because you are a bundle of memory. If one does the necessary spiritual sadhana, if one does sufficient inner work to establish these energies, which is yourself You’re only divorcing your spouse, you need not divorce yourself. But you need to understand this, you have already divorced yourself.\n",
            "\t0.003\tthere is nothing wrong in anything, there is nothing wrong in this or that, but it is just that you make misery out of it that's wrong. You do this you make misery out of it, if you do that you make misery out of it. That's what is wrong with you. So you got married, is it wrong? That's not the point. There's nothing wrong with it. You did not get married is it wrong? No there's nothing wrong with it. That's wonderful too. You got divorced, is it wrong? No, that's also wonderful. It is just that you make misery out of everything that's what is wrong. You just address that one issue everything will be settled. That's what we are looking at. How not to make misery out of everything? If this one thing is settled everything is settled, isn't it? Yes? If you know how to walk through this world joyfully through marriage and divorce and celibacy and everything, if you know how to walk through this joyfully, what is the problem? Whatever you do is beautiful, isn't it? (Laughs) That comes next. (Laughter) If you don't even know how to be happy, don't have such goals as a realization. They are very far away from you. See, you are just dismissing something very fundamental to your life with a stupid definition. Happiness is not just a state\n",
            "\t0.003\tYou can’t become a good wife based on  how your mother became a good wife. Situations have changed, expectations have changed. The biggest mistake humanity made was they started saying marriages are made in heaven. That's why it's such a mess (Laughter). you made this relationship,  because you need it badly, isn't it? If you understand and you are always grateful for this, you would handle it well. Superscript: Can a Modern Woman be an Ideal Wife? So our mothers have some set amazing benchmark… Sadhguru: The moment you say mothers…  Interviewer (Lisa): Yeah. Sadhguru: They're giving a sound ambience of babies crying. Interviewer (Lisa): Oh Okay. Sadhguru: Perfect. Interviewer (Lisa): That's the halo effect, I think. Yeah, so they set of quite a big benchmark of being an ideal wife. However, I or girls with my generation feel that we cannot be as good a wife as  my mother has been or our mothers have been. So should I feel that I am falling short of in my personal life, or should I feel that I'm not giving enough  justice to my marriage once I'm married? How should I feel about this? Sadhguru: You know our center in the  United States is in Tennessee. Tennessee is a little…one kind of state. Okay? Mary McKowski, that’s not Romanian, right (Laughter)? Okay. Mary McKowski got married\n",
            "\t0.002\tSadhguru: I know I will die a failure, but I will die blissfully. May you die as a failure, is it ok? Yeah, you should – blissed-out failure. Speaker: So most of us here at IIM Bangalore have been consistent achievers, at least in some domain or the other for all our lives. But sometime at IIM Bangalore is good enough to make you feel that you are not good enough, so how do you deal with the pressure of being relatively average? Sadhguru: It’s best somebody makes you feel that right here, because anyway that may happen in your life. It can happen in your work, it can happen in your family. Somebody will tell you, “You are not good enough” (Laughs). So whether they tell you or not, I want you to understand, none of us are ever really good enough. If you have a large scale intention in the world, you are never really good enough. People keep telling me, “Sadhguru you have done so many things, this project, that project.” I will tell you my project. Because just day before yesterday I was at Chamundi Hill. This happened thirty-seven years ago, I went up Chamundi Hill and sat there – for no reason I was overflowing with ecstasy, every cell in my body exploding. I didn’t know what was happening. When I spoke to my closest friends, they said, “Tell me what did you drink, what did you\n",
            "\t0.002\tJuhi Chawla: Yes. Sadhguru: Without becoming vulnerable there is no love affair, you have to fall. When you fall, somebody may raise you or somebody may walk over you (Laughs). Juhi Chawla: Yes. Sadhguru: But the thing is the the experience of your life is beautiful because you fell not because they raised you, not because they walked over you, because you could actually have the sense of abandon in you to fall, that was the beauty of your love affair not what they gave you, what they did to you, this – no! The beauty was you sat alone and you think you really loved this person so much you’re willing to die, that was the most beautiful moment (Applause). Not the moment they gave you a big gift, not the moment they gave you a diamond ring, not the moment they said this and that about you – no! You just sat here and you’re willing to die, that was the moment; not just a doormat, you’re willing to be the dust on their feet, okay? I’m not saying you should be like that – I’m saying where love transformed itself into a devotion. If you fall in love itself you become very vulnerable but there are still some shreds of sanity in love affairs that you can recover. But if you become a devotee there is no sanity left and you cannot recover.\n"
          ],
          "name": "stdout"
        }
      ]
    },
    {
      "cell_type": "code",
      "metadata": {
        "id": "1MH2S_BETVv3"
      },
      "source": [
        ""
      ],
      "execution_count": null,
      "outputs": []
    }
  ]
}