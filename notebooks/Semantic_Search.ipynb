{
  "nbformat": 4,
  "nbformat_minor": 0,
  "metadata": {
    "colab": {
      "name": "Semantic Search.ipynb ",
      "provenance": [],
      "collapsed_sections": [],
      "toc_visible": true,
      "authorship_tag": "ABX9TyO9S9E9OA+YNmEzRKJsSu7R",
      "include_colab_link": true
    },
    "kernelspec": {
      "name": "python3",
      "display_name": "Python 3"
    },
    "accelerator": "GPU",
    "widgets": {
      "application/vnd.jupyter.widget-state+json": {
        "6ea010c0574b410795403496fb35407e": {
          "model_module": "@jupyter-widgets/controls",
          "model_name": "HBoxModel",
          "state": {
            "_view_name": "HBoxView",
            "_dom_classes": [],
            "_model_name": "HBoxModel",
            "_view_module": "@jupyter-widgets/controls",
            "_model_module_version": "1.5.0",
            "_view_count": null,
            "_view_module_version": "1.5.0",
            "box_style": "",
            "layout": "IPY_MODEL_09db5ea44af441bdb5e32a58a4e3af1c",
            "_model_module": "@jupyter-widgets/controls",
            "children": [
              "IPY_MODEL_3dbdb5ab4d444228a4d407b4d4e7d9e3",
              "IPY_MODEL_5e0dbfe8ac6a49658729bd54a0e8cc6a"
            ]
          }
        },
        "09db5ea44af441bdb5e32a58a4e3af1c": {
          "model_module": "@jupyter-widgets/base",
          "model_name": "LayoutModel",
          "state": {
            "_view_name": "LayoutView",
            "grid_template_rows": null,
            "right": null,
            "justify_content": null,
            "_view_module": "@jupyter-widgets/base",
            "overflow": null,
            "_model_module_version": "1.2.0",
            "_view_count": null,
            "flex_flow": null,
            "width": null,
            "min_width": null,
            "border": null,
            "align_items": null,
            "bottom": null,
            "_model_module": "@jupyter-widgets/base",
            "top": null,
            "grid_column": null,
            "overflow_y": null,
            "overflow_x": null,
            "grid_auto_flow": null,
            "grid_area": null,
            "grid_template_columns": null,
            "flex": null,
            "_model_name": "LayoutModel",
            "justify_items": null,
            "grid_row": null,
            "max_height": null,
            "align_content": null,
            "visibility": null,
            "align_self": null,
            "height": null,
            "min_height": null,
            "padding": null,
            "grid_auto_rows": null,
            "grid_gap": null,
            "max_width": null,
            "order": null,
            "_view_module_version": "1.2.0",
            "grid_template_areas": null,
            "object_position": null,
            "object_fit": null,
            "grid_auto_columns": null,
            "margin": null,
            "display": null,
            "left": null
          }
        },
        "3dbdb5ab4d444228a4d407b4d4e7d9e3": {
          "model_module": "@jupyter-widgets/controls",
          "model_name": "FloatProgressModel",
          "state": {
            "_view_name": "ProgressView",
            "style": "IPY_MODEL_58157a92af31408e9577d0f1c442dbc3",
            "_dom_classes": [],
            "description": "Batches: 100%",
            "_model_name": "FloatProgressModel",
            "bar_style": "success",
            "max": 186,
            "_view_module": "@jupyter-widgets/controls",
            "_model_module_version": "1.5.0",
            "value": 186,
            "_view_count": null,
            "_view_module_version": "1.5.0",
            "orientation": "horizontal",
            "min": 0,
            "description_tooltip": null,
            "_model_module": "@jupyter-widgets/controls",
            "layout": "IPY_MODEL_a9cb36296c5944dea447dc0f0845b77e"
          }
        },
        "5e0dbfe8ac6a49658729bd54a0e8cc6a": {
          "model_module": "@jupyter-widgets/controls",
          "model_name": "HTMLModel",
          "state": {
            "_view_name": "HTMLView",
            "style": "IPY_MODEL_a773601f82ef488f85b2037e6c633d75",
            "_dom_classes": [],
            "description": "",
            "_model_name": "HTMLModel",
            "placeholder": "​",
            "_view_module": "@jupyter-widgets/controls",
            "_model_module_version": "1.5.0",
            "value": " 186/186 [00:46&lt;00:00,  4.00it/s]",
            "_view_count": null,
            "_view_module_version": "1.5.0",
            "description_tooltip": null,
            "_model_module": "@jupyter-widgets/controls",
            "layout": "IPY_MODEL_9e1f7386109147d8b8561d3216932cb4"
          }
        },
        "58157a92af31408e9577d0f1c442dbc3": {
          "model_module": "@jupyter-widgets/controls",
          "model_name": "ProgressStyleModel",
          "state": {
            "_view_name": "StyleView",
            "_model_name": "ProgressStyleModel",
            "description_width": "initial",
            "_view_module": "@jupyter-widgets/base",
            "_model_module_version": "1.5.0",
            "_view_count": null,
            "_view_module_version": "1.2.0",
            "bar_color": null,
            "_model_module": "@jupyter-widgets/controls"
          }
        },
        "a9cb36296c5944dea447dc0f0845b77e": {
          "model_module": "@jupyter-widgets/base",
          "model_name": "LayoutModel",
          "state": {
            "_view_name": "LayoutView",
            "grid_template_rows": null,
            "right": null,
            "justify_content": null,
            "_view_module": "@jupyter-widgets/base",
            "overflow": null,
            "_model_module_version": "1.2.0",
            "_view_count": null,
            "flex_flow": null,
            "width": null,
            "min_width": null,
            "border": null,
            "align_items": null,
            "bottom": null,
            "_model_module": "@jupyter-widgets/base",
            "top": null,
            "grid_column": null,
            "overflow_y": null,
            "overflow_x": null,
            "grid_auto_flow": null,
            "grid_area": null,
            "grid_template_columns": null,
            "flex": null,
            "_model_name": "LayoutModel",
            "justify_items": null,
            "grid_row": null,
            "max_height": null,
            "align_content": null,
            "visibility": null,
            "align_self": null,
            "height": null,
            "min_height": null,
            "padding": null,
            "grid_auto_rows": null,
            "grid_gap": null,
            "max_width": null,
            "order": null,
            "_view_module_version": "1.2.0",
            "grid_template_areas": null,
            "object_position": null,
            "object_fit": null,
            "grid_auto_columns": null,
            "margin": null,
            "display": null,
            "left": null
          }
        },
        "a773601f82ef488f85b2037e6c633d75": {
          "model_module": "@jupyter-widgets/controls",
          "model_name": "DescriptionStyleModel",
          "state": {
            "_view_name": "StyleView",
            "_model_name": "DescriptionStyleModel",
            "description_width": "",
            "_view_module": "@jupyter-widgets/base",
            "_model_module_version": "1.5.0",
            "_view_count": null,
            "_view_module_version": "1.2.0",
            "_model_module": "@jupyter-widgets/controls"
          }
        },
        "9e1f7386109147d8b8561d3216932cb4": {
          "model_module": "@jupyter-widgets/base",
          "model_name": "LayoutModel",
          "state": {
            "_view_name": "LayoutView",
            "grid_template_rows": null,
            "right": null,
            "justify_content": null,
            "_view_module": "@jupyter-widgets/base",
            "overflow": null,
            "_model_module_version": "1.2.0",
            "_view_count": null,
            "flex_flow": null,
            "width": null,
            "min_width": null,
            "border": null,
            "align_items": null,
            "bottom": null,
            "_model_module": "@jupyter-widgets/base",
            "top": null,
            "grid_column": null,
            "overflow_y": null,
            "overflow_x": null,
            "grid_auto_flow": null,
            "grid_area": null,
            "grid_template_columns": null,
            "flex": null,
            "_model_name": "LayoutModel",
            "justify_items": null,
            "grid_row": null,
            "max_height": null,
            "align_content": null,
            "visibility": null,
            "align_self": null,
            "height": null,
            "min_height": null,
            "padding": null,
            "grid_auto_rows": null,
            "grid_gap": null,
            "max_width": null,
            "order": null,
            "_view_module_version": "1.2.0",
            "grid_template_areas": null,
            "object_position": null,
            "object_fit": null,
            "grid_auto_columns": null,
            "margin": null,
            "display": null,
            "left": null
          }
        }
      }
    }
  },
  "cells": [
    {
      "cell_type": "markdown",
      "metadata": {
        "id": "view-in-github",
        "colab_type": "text"
      },
      "source": [
        "<a href=\"https://colab.research.google.com/github/desaibhargav/VR/blob/main/Semantic_Search.ipynb\" target=\"_parent\"><img src=\"https://colab.research.google.com/assets/colab-badge.svg\" alt=\"Open In Colab\"/></a>"
      ]
    },
    {
      "cell_type": "markdown",
      "metadata": {
        "id": "ek92HG1ysdFk"
      },
      "source": [
        "## **Dependencies**"
      ]
    },
    {
      "cell_type": "code",
      "metadata": {
        "id": "UzEg8nn-si-4"
      },
      "source": [
        "!pip install -U -q sentence-transformers\n",
        "!git clone https://github.com/desaibhargav/VR.git"
      ],
      "execution_count": null,
      "outputs": []
    },
    {
      "cell_type": "code",
      "metadata": {
        "id": "4h7LriPbt5qp"
      },
      "source": [
        "# request to enable GPU \n",
        "if not torch.cuda.is_available():\n",
        "  print(\"Warning: No GPU found. Please add GPU to your notebook\")"
      ],
      "execution_count": 10,
      "outputs": []
    },
    {
      "cell_type": "markdown",
      "metadata": {
        "id": "2lRWBb72srYX"
      },
      "source": [
        "## **Imports**"
      ]
    },
    {
      "cell_type": "code",
      "metadata": {
        "id": "Gr7rxUjICgw2"
      },
      "source": [
        "import pandas as pd\n",
        "import numpy as np\n",
        "import torch\n",
        "import time\n",
        "\n",
        "from typing import Generator\n",
        "from sentence_transformers import SentenceTransformer, CrossEncoder, util\n",
        "from VR.backend.chunker import Chunker"
      ],
      "execution_count": 5,
      "outputs": []
    },
    {
      "cell_type": "markdown",
      "metadata": {
        "id": "5hsGcJQqr7vl"
      },
      "source": [
        "## **Dataset**"
      ]
    },
    {
      "cell_type": "code",
      "metadata": {
        "colab": {
          "base_uri": "https://localhost:8080/"
        },
        "id": "D-VzeDLptJLo",
        "outputId": "354a2a82-6fb8-4673-a006-b45544b4791f"
      },
      "source": [
        "# load scrapped data (using youtube_client.py)\n",
        "dataset = pd.read_pickle('VR/datasets/youtube_scrapped.pickle')\n",
        "\n",
        "# split transcripts of videos to smaller blocks or chunks (using chunker.py)\n",
        "chunked = Chunker(chunk_by='length', expected_threshold=150, min_tolerable_threshold=100).get_chunks(dataset)\n",
        "\n",
        "# finally, create dataset\n",
        "dataset_untagged = dataset.join(chunked).drop(columns=['subtitles', 'timestamps'])\n",
        "df = dataset_untagged.copy().dropna()\n",
        "print(f\"Average length of block: {df.length_of_block.mean()}, Standard Deviation: {df.length_of_block.std()}\")"
      ],
      "execution_count": 58,
      "outputs": [
        {
          "output_type": "stream",
          "text": [
            "Average length of block: 157.91129032258064, Standard Deviation: 16.95658140806328\n"
          ],
          "name": "stdout"
        }
      ]
    },
    {
      "cell_type": "markdown",
      "metadata": {
        "id": "3W8ri2YnQ3Br"
      },
      "source": [
        "## **Semantic Search**\n",
        "\n",
        "---\n",
        "\n",
        "The idea is to compute embeddings of the query (entered by user) and use cosine similarity to find the `top_k` most similar blocks. \n",
        "\n",
        "Blocks are nothing but the entire video transcript (big string) split into fixed length strings (small strings, ~230 words). \n",
        "\n",
        "---\n",
        "\n",
        "The reason for such a design choice was threefold, handled by `chunker.py` (refer the repo):\n",
        "\n",
        "1. First and foremost, some videoes can be very long (over ~40 minutes) which means the transcript for the same is a **massive** string, and we need to avoid hitting the processing length limits of pre-trained models. \n",
        "\n",
        "2. Secondly, and more importantly, it is always good to maintain the inputs at a length on which the models being used were trained (to stay as close as poossible to the training set for optimum results).\n",
        "\n",
        "3. But perhaps, most importantly, the purpose for splitting transcripts to blocks is so that the recommendations can be targeted to a snippet within a video. The vision is to recommend many snippets from various videoes highly relevant to the query, rather than entire videoes themselves in which matching snippets have been found (which may sometimes be long and the content may not always be related to the query).\n",
        "\n",
        "---"
      ]
    },
    {
      "cell_type": "code",
      "metadata": {
        "colab": {
          "base_uri": "https://localhost:8080/"
        },
        "id": "Y0hWIUytKxu-",
        "outputId": "b0205da5-7f00-4961-d3d7-fcac3a056f27"
      },
      "source": [
        "# load model (to encode the dataset)\n",
        "bi_encoder = SentenceTransformer('paraphrase-distilroberta-base-v1')\n",
        "\n",
        "# number of blocks we want to retrieve with the bi-encoder\n",
        "top_k = 100     \n",
        "\n",
        "# the bi-encoder will retrieve 50 blocks (top_k). \n",
        "# we use a cross-encoder, to re-rank the results list to improve the quality.\n",
        "cross_encoder = CrossEncoder('cross-encoder/ms-marco-electra-base')"
      ],
      "execution_count": 52,
      "outputs": [
        {
          "output_type": "stream",
          "text": [
            "100%|██████████| 306M/306M [00:06<00:00, 49.1MB/s]\n"
          ],
          "name": "stderr"
        }
      ]
    },
    {
      "cell_type": "code",
      "metadata": {
        "colab": {
          "base_uri": "https://localhost:8080/",
          "height": 120,
          "referenced_widgets": [
            "6ea010c0574b410795403496fb35407e",
            "09db5ea44af441bdb5e32a58a4e3af1c",
            "3dbdb5ab4d444228a4d407b4d4e7d9e3",
            "5e0dbfe8ac6a49658729bd54a0e8cc6a",
            "58157a92af31408e9577d0f1c442dbc3",
            "a9cb36296c5944dea447dc0f0845b77e",
            "a773601f82ef488f85b2037e6c633d75",
            "9e1f7386109147d8b8561d3216932cb4"
          ]
        },
        "id": "EkSLo3uWLD_M",
        "outputId": "7d945e93-9e0b-4bb8-debe-4abcfb0f5202"
      },
      "source": [
        "# encode dataset\n",
        "corpus_embeddings = bi_encoder.encode(df.block.to_list(), convert_to_tensor=True, show_progress_bar=True)\n",
        "\n",
        "# send corpus embeddings to GPU\n",
        "corpus_embeddings = torch.tensor(corpus_embeddings).cuda()"
      ],
      "execution_count": 59,
      "outputs": [
        {
          "output_type": "display_data",
          "data": {
            "application/vnd.jupyter.widget-view+json": {
              "model_id": "6ea010c0574b410795403496fb35407e",
              "version_minor": 0,
              "version_major": 2
            },
            "text/plain": [
              "HBox(children=(FloatProgress(value=0.0, description='Batches', max=186.0, style=ProgressStyle(description_widt…"
            ]
          },
          "metadata": {
            "tags": []
          }
        },
        {
          "output_type": "stream",
          "text": [
            "\n"
          ],
          "name": "stdout"
        },
        {
          "output_type": "stream",
          "text": [
            "/usr/local/lib/python3.6/dist-packages/ipykernel_launcher.py:5: UserWarning: To copy construct from a tensor, it is recommended to use sourceTensor.clone().detach() or sourceTensor.clone().detach().requires_grad_(True), rather than torch.tensor(sourceTensor).\n",
            "  \"\"\"\n"
          ],
          "name": "stderr"
        }
      ]
    },
    {
      "cell_type": "code",
      "metadata": {
        "id": "NAVcBDavLJMA"
      },
      "source": [
        "# this function will search the dataset for passages that answer the query\n",
        "def search(query):\n",
        "  start_time = time.time()\n",
        "\n",
        "  # encode the query using the bi-encoder and find potentially relevant passages\n",
        "  question_embedding = bi_encoder.encode(query, convert_to_tensor=True)\n",
        "\n",
        "  # send query embeddings to GPU\n",
        "  question_embedding = question_embedding.cuda()\n",
        "\n",
        "  # perform sematic search by computing cosine similarity between corpus and query embeddings\n",
        "  # return top_k highest similarity matches\n",
        "  hits = util.semantic_search(question_embedding, corpus_embeddings, top_k=top_k)[0]\n",
        "\n",
        "  # now, score all retrieved passages with the cross_encoder\n",
        "  cross_inp = [[query, df.block.to_list()[hit['corpus_id']]] for hit in hits]\n",
        "  cross_scores = cross_encoder.predict(cross_inp)\n",
        "\n",
        "  # sort results by the cross-encoder scores\n",
        "  for idx in range(len(cross_scores)):\n",
        "      hits[idx]['cross-score'] = cross_scores[idx]\n",
        "  hits = sorted(hits, key=lambda x: x['cross-score'], reverse=True)\n",
        "  end_time = time.time()\n",
        "\n",
        "  # print output of top-5 hits (for iteractive environments only)\n",
        "  print(f\"Input query: {query}\")\n",
        "  print(f\"Results (after {round(end_time - start_time, 2)} seconds):\")\n",
        "  for hit in hits[0:10]:\n",
        "    print(\"\\t{:.3f}\\t{}\".format(hit['cross-score'], df.block.to_list()[hit['corpus_id']].replace(\"\\n\", \" \")))"
      ],
      "execution_count": 60,
      "outputs": []
    },
    {
      "cell_type": "markdown",
      "metadata": {
        "id": "vmNNvmsa8Pzm"
      },
      "source": [
        "## **Try some queries!**"
      ]
    },
    {
      "cell_type": "code",
      "metadata": {
        "colab": {
          "base_uri": "https://localhost:8080/"
        },
        "id": "GU9lDo4976gD",
        "outputId": "067851ee-a5a3-4ea3-9335-9bc62aa23d3f"
      },
      "source": [
        "query = \"I feel lost in life. I feel like there is no purpose of living. How should I deal with this?\"\n",
        "search(query)"
      ],
      "execution_count": 61,
      "outputs": [
        {
          "output_type": "stream",
          "text": [
            "Input query: I feel lost in life. I feel like there is no purpose of living. How should I deal with this?\n",
            "Results (after 4.19 seconds):\n",
            "\t0.959\tIt is the pettiness of one’s mind that it’ll seek a meaning because psychologically you will feel kind of unconnected with life if you don’t have a purpose and a meaning. People are constantly trying to create these false purposes. Now, they were quite fine and happy. Suddenly, they got married. Now the purpose is the other person. Then they have children. Now they become miserable with each other. Now the whole purpose that I go through all this misery is because the children. Like this, it goes on. These are things that you’re causing and holding these as purposes of life and is there a God-given purpose? What if God does not know you exist? No, I am just asking, by chance. (Laughter) I am saying in this huge cosmos, for which God is supposed to be the Creator and the manager of these hundred billion galaxies, in that this tiny little planet\n",
            "\t0.949\tAt least I could not figure till I was twenty-five, why the hell I have to go through education, so (Laughs) I didn’t go through much education because what is the purpose? Well somebody has a purpose for you. The purpose of life is that this life should find full expression. The purpose of life is not that this life should serve this or that. Every creature on the planet is always trying to become a full-fledged life. That is the aspiration of the human being also. But now we have made that thing of longing to become full-fledged life to find expression only in economic ways. The only way, you can be something in the world is, you have to be economically… you must be success in the economic field. This type of education will smother human genius. Nothing new or truly wonderful will happen. We are only thinking of how to use everything.\n",
            "\t0.946\tif you know this one thing all the time, you will see you got your GPS on. There is really no problem, you will never get lost. It doesn’t matter who says what, what kind of situations you are put into, you are never ever lost because you are life sensitive. This is all this life needs that this has to become life sensitive Right now we have developed a psychological structure which has got nothing to do with life. It’s got something to do with the social scene, got nothing to do with the life. Thank you very much (Applause). I think Are we okay? Because people were looking at their watches so I thought I have exceeded my time. Moderator: That was the last question we were taking. If you have any other questions you can put it up on social media. Sadhguru, we would like to thank you so much…  Sadhguru: Don’t, don’t, don’t (Laughs).\n",
            "\t0.930\tIf every moment of your life  becomes absolutely exuberant If every moment of your life  becomes absolutely exuberant and bursting within you, ‘Why?’ would be a ridiculous  question, isn't it? So this, we can... we can put some enthusiasm into your life saying, ‘God is testing you’ or ‘God is kissing you… hmm? So they will tell you many things. I am telling you, there is  no purpose to your life. If you do not realize the  exuberance of your existence, you can invent purposes. If you realize  the exuberance of this existence, if you experience the  ecstasy of being here then who the hell is bothered  about the purpose?\n",
            "\t0.928\tSo I wondered if the purpose of life is to just live and to live it fully according to my whim and fancy because this is one thing I know I have with me. So, my question is, is the purpose…was I right in thinking that the purpose in life is just to live it fully? Sadhguru: One hundred percent! Live it fully! But living it fully does not mean party every evening. Living it fully means before you fall dead, you must explore all dimensions of life. Nothing that’s possible for a human being should go un-experienced. If you are talking about living fully in that sense, you are on the dot! But later on you added, “according to my whim and fancy”, that’s a problem. Because your whims are not yours, they are social fads. Either you are doing what everybody is doing, or in reaction, you are doing what nobody is doing.\n",
            "\t0.926\tQuestioner: What’s… what’s for me the purpose of life, if you can give an insight on that? Thank you. Sadhguru: Isn't it fantastic that if there is no purpose, you have nothing to fulfill, you can just live? Hmm? No, but you want a purpose and not a simple purpose, you want a God-given purpose. (Laughter) It's very dangerous. People who think they have a God-given purpose are doing the cruelest things on the planet. Yes or no? They are doing the most horrible things and they’ve always been doing the most horrible things because when you have a God-given purpose, life here becomes less important than your purpose. No, life is important. Life is important - when I say life, I am not talking about your family, your work, what you do, what you do not do, you party I am not talking about that as life. This is life, isn't it?\n",
            "\t0.915\tHow should we deal with that discontent and loneliness? Sadhguru: On one level, many questions are aimed towards, how can I be free from this and that? Another level, you are asking, how can I bind myself to something or somebody? You must decide, what is the highest value in your life - freedom or bondage? Please, I would like to hear that word. Participant: Freedom! Sadhguru: Oh, freedom, hmm! But if you are free, you feel lost. If you go into the mountains and you are totally free, that is, nobody around, nothing around, you’re just in the empty space of the mountains, you don’t feel free, you think you are lost. So to handle freedom, it needs a certain clarity and strength. Most people cannot handle freedom. They are always trying to bind themselves, but only talking freedom all the time. If you really set them free, they will suffer immensely.\n",
            "\t0.913\tintense and beautiful is your experience of life. So don’t make too much fuss about it. You’re acting as if you’re going to lose something. No. There is nothing to lose, nothing to gain because you come and you go. You may think, “Oh my life, my life!” No, it’s… your life on this planet is like a pop-up – on the computer screen you have seen these pop-ups? You are just a pop-up and pop-out. In the meantime, will you rise and shine is the only question, all right? So, if… any way you shine, sometimes you may be seen by people, sometimes you may not be seen by people, the important is you… you are shining within yourself and that’s all that matters. If people have eyes, they will see it; if they have no eyes, they won’t see it, that’s their problem. But, you are living an intense and profound life, that’s\n",
            "\t0.882\ttrudging through life everyday eating, sleeping, same rubbish. What is the point? There is no point, unless you’re touched by something, some magic of life if it doesn’t touch you either in the form of love or in the form of a flower or in the form of something within you. If something doesn’t sparkle within you definitely there is a question whether I should live or not, isn’t it? And we are taking humanity in that direction with this overload of information. Information is not knowing, information is just garbage collection. You just gather things which don’t mean anything to you. You look smart in a tea party but you’re not smart with life, okay. If you’re smart with life you must be blissful, isn’t it (Laughs)? If you’re really smart with life you must be joyful and blissful. Isn’t it so? You’re only smart in a tea party\n",
            "\t0.842\twhen I say oblivious to life, I want you to look at this right now you cannot even call yourself as a living being, because most of the time what is happening with you is just thought and emotion. Thought and emotion is just psychological drama, it has no existential relevance. Here a thousand people can sit here and live in thousand different worlds right now, that means nobody is in reality. Nobody is living, everybody is thinking about life. Psychological space, what happens, has unfortunately overtaken the existential process of life. You do not experience life, you’re only thinking and reacting to situations around you. Thought and emotion is dominating everything. So, right now today morning sun came up on time you don’t think much about that “Okay so what?” (Laughter) No, you need to understand, if sun does not come up tomorrow morning, within eighteen hours all life on this planet will largely seize as we know it.\n"
          ],
          "name": "stdout"
        }
      ]
    },
    {
      "cell_type": "code",
      "metadata": {
        "colab": {
          "base_uri": "https://localhost:8080/"
        },
        "id": "yklTnzmz0fe-",
        "outputId": "dd674ca7-9019-4dc9-b09f-7f83bd110678"
      },
      "source": [
        "query = \"I just recently became a parent and I am feeling very nervous. What is the best way to bring up a child?\"\n",
        "search(query)"
      ],
      "execution_count": 56,
      "outputs": [
        {
          "output_type": "stream",
          "text": [
            "Input query: I just recently became a parent and I am feeling very nervous. What is the best way to bring up a child?\n",
            "Results (after 2.34 seconds):\n",
            "\t0.561\tSadhguru, what should be the role of a good parent in today's world? See, parenthood is a very funny thing You're trying to do something that nobody has ever known how to do it well Yes? Nobody has ever known what is the best way to parent their children Even if you have 12 children, you are still learning You may raise eleven properly the twelfth one can give you works, you know? So.. But you want to do your best what is the best thing you can do? One foremost thing I would say is First thing is to work upon yourself a little bit.\n",
            "\t0.052\tit doesn’t matter what their problem is. If you leave that level of openness and friendship with them, if they come to you first, there is every possibility that they won’t get lost on something, isn't it? Especially in a society like this, where the moment the child steps out, you don’t know what influences are going to catch him up. The most important thing is this: the parents should get off their pedestal and start treating them as equals and this has to happen right from childhood, you know; that he never sees you as somebody who is pushing him around\n",
            "\t0.031\tSimply it’ll come in the form of life or maybe it’ll come in the form of your children - the price. Yes, it’ll be very unfortunate to see that. I am saying this - a very cruel thing to say to any parent, but I am saying this because it’s a very cruel thing to parent a child. The child doesn’t need that, but please see in so many ways, you’re doing everything possible to see that he remains dependent on you in some way or the other. You are not thinking of liberating him. So, the moment you start working,\n",
            "\t0.028\tThey’re observing what you do and how you are, isn’t it? So, if you want to raise children, please raise yourself - don’t worry about the children don’t worry about the children just raise yourself into a wonderful human being, make yourself that, it will reflect. It cannot go wrong, but there’s no guarantee. (Laughter) Like in… everything in life, there’s no guarantee because there may be some other stronger influence on the street side, isn’t it? (Laughs)\n",
            "\t0.027\tIf you bring up a child free of prejudice in a loving,very open atmosphere, generally, they do well, but there is no guarantee Because there are other influences in the society You don't know into whose hands they'll fall  tomorrow morning You don't know into whose hands they'll fall  tomorrow morning Yes? You may be doing your best Tomorrow morning into whose hands your child will fall, there is no insurance or guarantee That's a risk that you're taking always But the only thing is - did you do your best or not? That's all there is to life\n",
            "\t0.023\twhat would be the best kind of parents to have ? If you look back,  you would know very clearly. If you are a parent, the important thing is,  please don’t stand on a big pedestal. The only qualification you have is you just came here a few years early. That’s the only mistake you’ve done. Yes. When you say,  “I wish I was young,” what it means is, “I made  the mistake of coming too early.” So this is the only qualification adults have, that they came here a few years  earlier than the younger people. This doesn’t qualify you to advice about everything in the universe. It doesn’t.\n",
            "\t0.023\tNo, you don’t need information about your child.  You need involvement. With involvement you’ll bring that life to its best. It need not be as good as somebody else or as bad as somebody else because it’s a unique life. Is there one life like another?  Participants: No. Sadhguru: It’s a unique life. So, but from… right from day one we are comparing it to another life and trying to make it like that one. This is a very cruel process for  the child. A child never understands what the hell the parents want (Laughter). I never understood. Nobody ever explained to me why the hell I should go to the school.\n",
            "\t0.021\tgenerally they grow up. Of course you want to provide opportunities for them. Each one of us can provide opportunities only to the extent it's available to us, isn't it? Yes? You cannot provide an opportunity for which  you don't have access You will always do according to your limitations I am sure in that area you will do your best, but the important thing is what kind of human beings or brats you raise? For that, what kind of human being are you is an extremely  important part of raising children So if your wife became pregnant, it's time for transformation for you\n",
            "\t0.019\tSo always having a son was most important. He will be around; If you die, he will do the necessary things so that your liberation will happen. So in pursuit of liberation unknowingly they bore you. Now it's time you remind them. This is an important duty for a child. As your parents are aging, and if they don’t have the sense to come to their senses, you must bring sense to them. You must remind them like I just now reminded you, you’re one year closer to the grave – your parents are much closer than you, isn't it?\n",
            "\t0.018\tWe have to equip the child to live in the modern world and still not mess him up with the nonsense that's happening in the name of modernity. So it is a much bigger challenge today than what it was then. And at that time, once the parents gave the children to the guru, they left him there, in complete his authority. Now the parents are very nosey, you know (Laughter)? They won't leave the children full. They want to… constantly meddle with that, they want to put their own stuff into it. All those issues are there, so it’s much more complex today than it was in the gurukul.\n"
          ],
          "name": "stdout"
        }
      ]
    },
    {
      "cell_type": "code",
      "metadata": {
        "colab": {
          "base_uri": "https://localhost:8080/"
        },
        "id": "xb_5tlbnTDS1",
        "outputId": "ea8d7ba7-cdb8-4713-ab69-72c1b14a8f41"
      },
      "source": [
        "query = \"I had a divorce. I feel like a failure. How should I handle this heartbreak?\"\n",
        "search(query)"
      ],
      "execution_count": 57,
      "outputs": [
        {
          "output_type": "stream",
          "text": [
            "Input query: I had a divorce. I feel like a failure. How should I handle this heartbreak?\n",
            "Results (after 2.41 seconds):\n",
            "\t0.323\tBut for some reason, you have come to that situation where this is this has to happen - you need to understand this, that divorce essentially means you have chosen to kill something, which is a part of you, because what you call as myself is just a certain volume of memory. Now, to how to conduct this gracefully? Most people think the best way to conduct a divorce is immediately jump into another relationship and another relationship of the same kind. No, you will cause much more struggle and turmoil within the system by doing that. It’s extremely important\n",
            "\t0.109\tripping it apart is almost like tearing yourself apart. Even though you might have begun to almost come to a place, where you can’t stand the person anymore, still it hurts, simply because you’re trying to rip out a memory, which is you, because you are a bundle of memory. If one does the necessary spiritual sadhana, if one does sufficient inner work to establish these energies, which is yourself You’re only divorcing your spouse, you need not divorce yourself. But you need to understand this, you have already divorced yourself. You’re quite divorced from your own self. Your existence has been nurtured\n",
            "\t0.059\tBut at the same time, the very fact that you’re going through your divorce means you want to be finished with that memory in some way. Maybe not erase that memory but someone who was a spouse, someone who was a in many ways a part of your life, slowly, for whatever reason, you have begun to experience them as a baggage that you’re unwilling to carry. So, you want to keep the baggage aside but you find the baggage is not something that you voluntarily carry, it is something that compulsively sticks to you. So when whatever sticks to you compulsively,\n",
            "\t0.024\tnothing wrong with it. That's wonderful too. You got divorced, is it wrong? No, that's also wonderful. It is just that you make misery out of everything that's what is wrong. You just address that one issue everything will be settled. That's what we are looking at. How not to make misery out of everything? If this one thing is settled everything is settled, isn't it? Yes? If you know how to walk through this world joyfully through marriage and divorce and celibacy and everything, if you know how to walk through this joyfully, what is the problem? Whatever you do is beautiful, isn't it? (Laughs) That comes\n",
            "\t0.004\tSo don’t go that way. This is an opportunity somebody is opening up a spiritual dimension for you really, somebody is making you realize how fragile all these things are; they can cheat you, they can run away, they can divorce you or they can fall dead, isn’t it? If they fall dead you wouldn’t think he cheated me, would you think? No but whichever way you’re denied, isn’t it? The important thing is you’re denied something. How he did it, is not the problem, he denied you something either by death or divorce or cheating or whatever you call it\n",
            "\t0.004\tif she reaches a point where she’s ready to overcome it, but she feels guilty to let it go because it has troubled her for a very, very long time, and not just her, the ones around her as well. So, is it right to let it go at that point or like… how does one deal with a situation like this? Sadhguru: See, I think this struggle is coming from a misunderstanding that something either unpleasant or terrible that one may encounter in one’s life – it can just happen to anybody in so many different ways - if it happens, people think they must forget it,\n",
            "\t0.003\twhether you like it or you don’t like it. Otherwise you shouldn’t get into those projects, you don’t walk into a project, drop it half way and walk away, isn’t it? Juhi Chawla: Yes. It’s your choice but at least choose consciously. You don’t have to get married because everybody is getting married, you don’t have to talk about marriage and divorce in same breath as if they come together (Laughter). This is a completely an American idea, you’re thinking of marriage and divorce together nobody thought of divorce in this country till recently, isn’t it? Juhi Chawla: Yes. Sadhguru: So, if it happens, Sadhguru: So, if it happens, if something happens something truly went wrong between two people and they have to separate that will any way inevitably happen. You don’t have to plan it at the time of wedding (Laughter). why should you ever talk about marriage and divorce in one breath? It's a crime\n",
            "\t0.003\tyou must understand, it’s a minimum twenty year project whether you like it or you don’t like it. Otherwise you shouldn’t get into those projects, you don’t walk into a project, drop it half way and walk away, isn’t it? They have their benefits and they have their problems. It’s your choice but at least choose consciously. You don’t have to get married because everybody is getting married, you don’t have to talk about marriage and divorce in same breath as if they come together (Laughter). This is a completely an American idea, you’re thinking of marriage and divorce together\n",
            "\t0.002\tnobody thought of divorce in this country till recently, isn’t it? Why should you ever talk about marriage and divorce in one breath? It’s… it’s a crime. It’s really a crime to think on those lines. But if it so happens something truly went wrong between two people and they have to separate that will any way inevitably happen. You don’t have to plan it at the time of wedding (Laughter). Questioner: Namaskaram Sadhguru. NamaskaramJuhi Mam. you mentioned about survival and you talked about aesthetics of life. I would like I would request you to elaborate on aesthetics of life\n",
            "\t0.002\tabout four-and-a-half hours had passed. For the first time in my adult life, tears – me and tears were impossible – tears are flowing to a point my shirt is all wet. I’ve always been peaceful and happy, life is working out the way I want, I’m young and successful and no problems. It is just that every cell in my body was bursting with ecstasy. Tears are just dripping like this. So when I shook my skeptical head and asked what’s happening to me, the only thing that my mind could tell me was, maybe I’m going off my rocker.\n"
          ],
          "name": "stdout"
        }
      ]
    }
  ]
}
